{
 "cells": [
  {
   "cell_type": "markdown",
   "metadata": {},
   "source": [
    "# Feature Analysis\n",
    "In this notebook, we will use feature analaysis to study a collection of Shakespeare plays and their genres. We'll examine which word features best characterize each play genre and which feature sets are useful for identifying play genres. Note that this notebook is intended to be a useful reference for your Final Project.\n",
    "\n",
    "**This notebook will be updated for Thursday's session.**"
   ]
  },
  {
   "cell_type": "markdown",
   "metadata": {},
   "source": [
    "## Importing Python modules and third-party packages"
   ]
  },
  {
   "cell_type": "markdown",
   "metadata": {},
   "source": [
    "Import modules and methods. Instead of using hand-crafted clustering methods, we'll be using the implementations provided by [scikit-learn](https://scikit-learn.org/0.23/)."
   ]
  },
  {
   "cell_type": "code",
   "execution_count": 1,
   "metadata": {},
   "outputs": [],
   "source": [
    "import os\n",
    "import re\n",
    "import numpy as np\n",
    "from collections import Counter\n",
    "from scipy.stats import entropy\n",
    "\n",
    "# Modules from scikit-learn\n",
    "from sklearn.model_selection import LeaveOneOut\n",
    "from sklearn.model_selection import cross_val_predict, cross_val_score\n",
    "from sklearn.naive_bayes import MultinomialNB\n",
    "\n",
    "# 2D Visualization\n",
    "from sklearn.decomposition import TruncatedSVD\n",
    "\n",
    "# Packages for plotting\n",
    "from matplotlib import pyplot as plt\n",
    "import seaborn as sns\n",
    "sns.set(style='white', font_scale=1.3) # Set the style for the plots"
   ]
  },
  {
   "cell_type": "markdown",
   "metadata": {},
   "source": [
    "To check the version of an imported package, we can examine the `__version__` attribute. For example, the following cell prints the version of `sklearn` and the version of `numpy` used in this notebook."
   ]
  },
  {
   "cell_type": "code",
   "execution_count": 2,
   "metadata": {},
   "outputs": [
    {
     "name": "stdout",
     "output_type": "stream",
     "text": [
      "scikit-learn: 0.23.2\n",
      "numpy: 1.19.2\n"
     ]
    }
   ],
   "source": [
    "import sklearn\n",
    "print(\"scikit-learn: {}\".format(sklearn.__version__))\n",
    "print(\"numpy: {}\".format(np.__version__))"
   ]
  },
  {
   "cell_type": "markdown",
   "metadata": {},
   "source": [
    "## Loading in & organizing our dataset"
   ]
  },
  {
   "cell_type": "markdown",
   "metadata": {},
   "source": [
    "For a project, it is extremely useful to consider what data you need and the best forms (i.e. data structures) for this data to take. This might change as your analysis progress, but it's very useful to make these design choices in one central location so that it is easy to reference and update consistently.\n",
    "\n",
    "\n",
    "In the next two cells, the following useful global variables are defined and constructed:\n",
    "- `genres`: a list of working play genres\n",
    "- `all_counts`: a Counter that stores the collection-level counts of each word type\n",
    "- `doc_counts`: a Counter that stores the *document frequency* of each word type\n",
    "- `genre_counts`: a dictionary that maps genres to a Counter that stores that genre's word type counts\n",
    "- `play_data`: a list containing play-level data structures, one per play\n",
    "- `play_genres`: a list of each play's genre using the same play index as `play_data` \n",
    "\n",
    "Each play-level data structure is a *dictionary* with the following fields:\n",
    "- `\"title\"`: the play's title\n",
    "- `\"genre\"`: the play's genre\n",
    "- `\"counts\"`: a Counter that stores the play's word type counts"
   ]
  },
  {
   "cell_type": "code",
   "execution_count": 3,
   "metadata": {},
   "outputs": [],
   "source": [
    "# Play genres\n",
    "genres = ['comedy', 'history', 'tragedy']\n",
    "\n",
    "# This counter will store the total frequency of each word type\n",
    "all_counts = Counter()\n",
    "# This counter will store the document frequency of each word type\n",
    "doc_counts = Counter()\n",
    "# This counter will store the genre-level counts of each word type\n",
    "genre_counts = {genre: Counter() for genre in genres}\n",
    "\n",
    "# A list of play-level data structures, one for each play in the collection\n",
    "play_data = []\n",
    "# A list of each play's genre\n",
    "play_genres = []"
   ]
  },
  {
   "cell_type": "code",
   "execution_count": 4,
   "metadata": {},
   "outputs": [],
   "source": [
    "# Read in plays from files\n",
    "word_pattern = re.compile(\"\\w[\\w\\-\\']*\\w|\\w\")\n",
    "genre_directories = {\n",
    "    \"comedy\": \"shakespeare/comedies\",\n",
    "    \"history\": \"shakespeare/histories\",\n",
    "    \"tragedy\": \"shakespeare/tragedies\",\n",
    "}\n",
    "\n",
    "for genre, genre_directory in genre_directories.items():\n",
    "    for filename in os.listdir(genre_directory):\n",
    "        # Only read .txt files\n",
    "        if filename.endswith('.txt'):\n",
    "            # Initialize play-specific data structures\n",
    "            play_counter = Counter()\n",
    "            play_data.append({\n",
    "                \"title\": filename[:-4],\n",
    "                \"genre\": genre,\n",
    "                \"counts\": play_counter,\n",
    "            })\n",
    "            play_genres.append(genre)\n",
    "            \n",
    "            # Open and tokenize file\n",
    "            filepath = '{}/{}'.format(genre_directory, filename)\n",
    "            with open(filepath, encoding='utf-8') as reader: ## What encoding are the files in?\n",
    "                for line in reader:\n",
    "                    line = line.strip()\n",
    "                    # Skip empty and non-speaking lines\n",
    "                    if line and not line.startswith('<'):\n",
    "                        line = line.lower()\n",
    "                        tokens = word_pattern.findall(line)\n",
    "                        play_counter.update(tokens)\n",
    "            # Update genre and overall counters\n",
    "            genre_counts[genre].update(play_counter)\n",
    "            doc_counts.update(play_counter.keys())\n",
    "            all_counts += play_counter"
   ]
  },
  {
   "cell_type": "markdown",
   "metadata": {},
   "source": [
    "## Constructing initial feature set and vectors"
   ]
  },
  {
   "cell_type": "markdown",
   "metadata": {},
   "source": [
    "For the purposes of this notebook, we'll assume our features correspond to individual words. Our initial feature set `vocabulary` will be all words that occur in two or more plays."
   ]
  },
  {
   "cell_type": "code",
   "execution_count": 5,
   "metadata": {},
   "outputs": [],
   "source": [
    "vocabulary = []\n",
    "for word_type, doc_count in doc_counts.most_common():\n",
    "    if doc_count > 1:\n",
    "        vocabulary.append(word_type)"
   ]
  },
  {
   "cell_type": "markdown",
   "metadata": {},
   "source": [
    "We'll construct our initial play vectors such that each component of a play's vector corresponds to the number of times some term in `vocabulary` occurs in that play. We'll store these vectors within `play_vectors` using the same play indices as `play_data`. Note that each vector is a [numpy array](https://numpy.org/doc/stable/reference/generated/numpy.array.html).\n",
    "\n",
    "We'll use the function `build_vectors` to do this. This function constructs play count vectors using features specified by the input list `vocab`.   "
   ]
  },
  {
   "cell_type": "code",
   "execution_count": 6,
   "metadata": {},
   "outputs": [],
   "source": [
    "def build_vectors(vocab):\n",
    "    vectors = []\n",
    "    for struct in play_data:\n",
    "        counts = struct['counts']\n",
    "        vector = np.array([counts[w] for w in vocab])\n",
    "        vectors.append(vector)\n",
    "    return vectors"
   ]
  },
  {
   "cell_type": "code",
   "execution_count": 7,
   "metadata": {},
   "outputs": [],
   "source": [
    "play_vectors = build_vectors(vocabulary)"
   ]
  },
  {
   "cell_type": "markdown",
   "metadata": {},
   "source": [
    "## How well do the initial vectors reflect play genre?\n",
    "### Visualizing Vectors\n",
    "By examining a two-dimensional projection of our vectors, we can often gain a sense of how well our vectors cluster and if these clusterings correspond to known categorizations."
   ]
  },
  {
   "cell_type": "code",
   "execution_count": 8,
   "metadata": {},
   "outputs": [],
   "source": [
    "def plot_plays(vectors):\n",
    "    svd_model = TruncatedSVD(n_components=2)\n",
    "    vectors_2d = svd_model.fit_transform(vectors)\n",
    "\n",
    "    # Plot 2d vectors\n",
    "    plt.figure(figsize=(6,6))\n",
    "    _ = sns.scatterplot(x=vectors_2d[:, 0], y=vectors_2d[:, 1], hue=play_genres,\n",
    "                        s=100, alpha=.75)\n",
    "    _ = plt.legend(loc=\"center left\", bbox_to_anchor=(1.05, .5),borderaxespad=0)\n",
    "    _ = plt.xticks([])\n",
    "    _ = plt.yticks([])"
   ]
  },
  {
   "cell_type": "markdown",
   "metadata": {},
   "source": [
    "Using `plot_plays` we can see that our initial play vectors are somewhat separated by genre."
   ]
  },
  {
   "cell_type": "code",
   "execution_count": 9,
   "metadata": {},
   "outputs": [
    {
     "data": {
      "image/png": "[encoded data removed]",
      "text/plain": [
       "<Figure size 432x432 with 1 Axes>"
      ]
     },
     "metadata": {},
     "output_type": "display_data"
    }
   ],
   "source": [
    "plot_plays(play_vectors)"
   ]
  },
  {
   "cell_type": "markdown",
   "metadata": {},
   "source": [
    "### Classifying vectors\n",
    "We can further evaluate the quality of our feature representations (i.e. vectors) by measuring how well they can be used to classify plays be genre.\n",
    "\n",
    "`classify_plays` trains a Naive Bayes classifier with a default smoothing of 1. For each play, we train a classifier using the vectors of all other plays and then use it to predict the unseen play's genre. This is a form of *cross-validation* called \"leave-one-out\". It prints the overall accuracy of the classifier, as well as the classifier's genre-level accuracies."
   ]
  },
  {
   "cell_type": "code",
   "execution_count": 10,
   "metadata": {},
   "outputs": [],
   "source": [
    "def classify_plays(vectors, smoothing=1):\n",
    "    model = MultinomialNB(alpha=smoothing, fit_prior=False)\n",
    "    cross_validator = LeaveOneOut()\n",
    "    scores = cross_val_score(model, vectors, play_genres, cv=cross_validator)\n",
    "    # Compute overall accuracy\n",
    "    print(\"Overall Accuracy: {:.1f}%\\n\".format(100*sum(scores)/len(scores)))\n",
    "    # Compute genre-level acuracies\n",
    "    genre_scores = {g:[] for g in genres}\n",
    "    for i, genre in enumerate(play_genres):\n",
    "        genre_scores[genre].append(scores[i])\n",
    "    for g in genres:\n",
    "        genre_name = g.title() + ' ' if g == 'comedy' else g.title()\n",
    "        print(\"{} Accuracy: {:.1f}%\".format(genre_name,\n",
    "              100*sum(genre_scores[g])/len(genre_scores[g])))"
   ]
  },
  {
   "cell_type": "code",
   "execution_count": 11,
   "metadata": {},
   "outputs": [
    {
     "name": "stdout",
     "output_type": "stream",
     "text": [
      "Overall Accuracy: 75.7%\n",
      "\n",
      "Comedy  Accuracy: 76.5%\n",
      "History Accuracy: 90.0%\n",
      "Tragedy Accuracy: 60.0%\n"
     ]
    }
   ],
   "source": [
    "classify_plays(play_vectors)"
   ]
  },
  {
   "cell_type": "markdown",
   "metadata": {},
   "source": [
    "Q: Given the visualization and classification of our initial vectors, how well do our features capture genre?"
   ]
  },
  {
   "cell_type": "markdown",
   "metadata": {},
   "source": [
    "We can further examine how well our features can capture *individual* genres using *binary* classification. Instead of directly using our play genre labels for classification. We'll convert them into *binary* labels of the form genre \"X\" and *not* genre \"X\".\n",
    "\n",
    "`classify_genre` will print the results of a binary classification for a given play genre `genre`."
   ]
  },
  {
   "cell_type": "code",
   "execution_count": 12,
   "metadata": {},
   "outputs": [],
   "source": [
    "def classify_genre(genre, vectors, smoothing=1):\n",
    "    # Construct binary labels\n",
    "    binary_labels = []\n",
    "    for g in play_genres:\n",
    "        if g == genre:\n",
    "            binary_labels.append(g)\n",
    "        else:\n",
    "            binary_labels.append(\"not_{}\".format(genre))\n",
    "    # Train binary classifier\n",
    "    model = MultinomialNB(alpha=smoothing, fit_prior=False)\n",
    "    cross_validator = LeaveOneOut()\n",
    "    scores = cross_val_score(model, vectors, binary_labels, cv=cross_validator)\n",
    "    # Compute overall accuracy\n",
    "    print(\"Accuracy: {:.1f}%\".format(100*sum(scores)/len(scores)))"
   ]
  },
  {
   "cell_type": "markdown",
   "metadata": {},
   "source": [
    "Q: What are the accuracy results for each genre?\n",
    "\n",
    "| Genre | Classifier Accuracy |\n",
    "| :- | :-: |\n",
    "| Comedy | ??.?% |\n",
    "| History | ??.?% |\n",
    "| Tragedy | ??.?% |"
   ]
  },
  {
   "cell_type": "markdown",
   "metadata": {},
   "source": [
    "Q: Why might the binary classifier results differ from the previous *multi-class* (i.e. play genre) classifier? "
   ]
  },
  {
   "cell_type": "markdown",
   "metadata": {},
   "source": [
    "## Which features reflect genre?\n",
    "We can examine the most distinctive words of each genre using *Dunning g-scores*. \n",
    "\n",
    "To compute the Dunning g-score for a term *t* and genre *g* we'll first build the following contingency table.\n",
    "\n",
    "Q: What does each table entry correspond to?\n",
    "\n",
    "| | *g* | Not *g* |\n",
    "| :- | :-: | :-: |\n",
    "| ***t*** | ? | ? |\n",
    "| **not *t*** | ? | ? | "
   ]
  },
  {
   "cell_type": "markdown",
   "metadata": {},
   "source": [
    "`get_contingency_table` will build the needed contingency table for a given term and genre. We can provide this as input to `dunning_gscore` to compute the Dunning g-score for that genre-term pair."
   ]
  },
  {
   "cell_type": "code",
   "execution_count": 13,
   "metadata": {},
   "outputs": [],
   "source": [
    "# collection- and genre-level token lengths\n",
    "collection_length = sum([all_counts[term] for term in vocabulary])\n",
    "genre_lengths = {genre: sum([genre_counts[genre][term] for term in vocabulary]) for genre in genres}\n",
    "\n",
    "def get_contingency_table(term, genre):\n",
    "    table = np.zeros((2,2))\n",
    "    genre_length = genre_lengths[genre]\n",
    "    genre_counter = genre_counts[genre]\n",
    "    table[0, 0] = genre_counter[term]\n",
    "    table[1, 0] = all_counts[term] - genre_counter[term]\n",
    "    table[0, 1] = genre_length - genre_counter[term]\n",
    "    table[1, 1] = (collection_length - genre_length) - (all_counts[term] - genre_counter[term])\n",
    "    return table\n",
    "\n",
    "def dunning_gscore(table, signed=False):\n",
    "    rows = table.sum(axis=1)\n",
    "    cols = table.sum(axis=0)\n",
    "    score = 2 * table.sum() * (entropy(rows) + entropy(cols) - entropy(table.flatten()))\n",
    "    if signed:\n",
    "        assert(table.shape == (2,2))\n",
    "        if table[0,0]/table[:, 0].sum() < table[0,1]/table[:, 1].sum() > 0:\n",
    "            score *= -1\n",
    "    return score"
   ]
  },
  {
   "cell_type": "markdown",
   "metadata": {},
   "source": [
    "So, we can compute the Dunning g-score for a given term and genre as follows:"
   ]
  },
  {
   "cell_type": "code",
   "execution_count": 14,
   "metadata": {},
   "outputs": [
    {
     "data": {
      "text/plain": [
       "44.790672702440034"
      ]
     },
     "execution_count": 14,
     "metadata": {},
     "output_type": "execute_result"
    }
   ],
   "source": [
    "term = 'marry'\n",
    "genre = 'comedy'\n",
    "table = get_contingency_table(term, genre)\n",
    "dunning_gscore(table)"
   ]
  },
  {
   "cell_type": "markdown",
   "metadata": {},
   "source": [
    "Q: What are the top 10 most distinctive words of each genre using Dunning g-scores?\n",
    "\n",
    "| Most Distinctive | Comedy | Tragedy | History |\n",
    "| -: | :-: | :-: | :-: |\n",
    "| 1 | ? | ? | ? |\n",
    "| 2 | ? | ? | ? |\n",
    "| 3 | ? | ? | ? |\n",
    "| 4 | ? | ? | ? |\n",
    "| 5 | ? | ? | ? |\n",
    "| 6 | ? | ? | ? |\n",
    "| 7 | ? | ? | ? |\n",
    "| 8 | ? | ? | ? |\n",
    "| 9 | ? | ? | ? |\n",
    "| 10 | ? | ? | ? |"
   ]
  },
  {
   "cell_type": "markdown",
   "metadata": {},
   "source": [
    "Unfortunately, these lists will have some overlap since Dunning g-scores indicate the feature's usefulness for distinguishing between a genre and other genres. \n",
    "The larger a Dunning g-score is, the more a term can be used to identify a particular genre. However, this corresponds to both words that are *strongly* related to the genre in question and words that are strongly *unrelated* to the genre. We distinguish between these two cases by comparing the proportions of the term occuring in the genre versus in the other genres.\n",
    "\n",
    "Q: How does `dunning_gscore`'s `signed` option differentiate dunning g-scores that indicate a word is more related or unrelated to the genre of focus?"
   ]
  },
  {
   "cell_type": "markdown",
   "metadata": {},
   "source": [
    "Q: What are the 10 words that best characterize each genre using Dunning g-scores?\n",
    "\n",
    "| Most Characteristic | Comedy | Tragedy | History |\n",
    "| -: | :-: | :-: | :-: |\n",
    "| 1 | ? | ? | ? |\n",
    "| 2 | ? | ? | ? |\n",
    "| 3 | ? | ? | ? |\n",
    "| 4 | ? | ? | ? |\n",
    "| 5 | ? | ? | ? |\n",
    "| 6 | ? | ? | ? |\n",
    "| 7 | ? | ? | ? |\n",
    "| 8 | ? | ? | ? |\n",
    "| 9 | ? | ? | ? |\n",
    "| 10 | ? | ? | ? |"
   ]
  },
  {
   "cell_type": "markdown",
   "metadata": {},
   "source": [
    "Q: How might we using Dunning g-scores to improve our vector representations so that they better reflect play genre?"
   ]
  }
 ],
 "metadata": {
  "kernelspec": {
   "display_name": "Python 3",
   "language": "python",
   "name": "python3"
  },
  "language_info": {
   "codemirror_mode": {
    "name": "ipython",
    "version": 3
   },
   "file_extension": ".py",
   "mimetype": "text/x-python",
   "name": "python",
   "nbconvert_exporter": "python",
   "pygments_lexer": "ipython3",
   "version": "3.8.5"
  }
 },
 "nbformat": 4,
 "nbformat_minor": 4
}
