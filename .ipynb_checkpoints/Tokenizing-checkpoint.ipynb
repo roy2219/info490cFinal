{
 "cells": [
  {
   "cell_type": "code",
   "execution_count": 1,
   "metadata": {},
   "outputs": [],
   "source": [
    "import os\n",
    "import re\n",
    "import numpy as np\n",
    "import pandas as pd\n",
    "import nltk\n",
    "from collections import Counter\n",
    "from scipy.cluster.hierarchy import dendrogram\n",
    "from nltk.tokenize import word_tokenize\n",
    "from nltk.corpus import stopwords \n",
    "# Modules from scikit-learn\n",
    "from sklearn.cluster import AgglomerativeClustering, KMeans\n",
    "from sklearn.decomposition import TruncatedSVD\n",
    "from sklearn.manifold import TSNE"
   ]
  },
  {
   "cell_type": "code",
   "execution_count": 2,
   "metadata": {},
   "outputs": [
    {
     "name": "stderr",
     "output_type": "stream",
     "text": [
      "[nltk_data] Downloading package stopwords to\n",
      "[nltk_data]     /home/cdbrown0702/nltk_data...\n",
      "[nltk_data]   Package stopwords is already up-to-date!\n",
      "[nltk_data] Downloading package punkt to\n",
      "[nltk_data]     /home/cdbrown0702/nltk_data...\n",
      "[nltk_data]   Package punkt is already up-to-date!\n"
     ]
    },
    {
     "data": {
      "text/plain": [
       "True"
      ]
     },
     "execution_count": 2,
     "metadata": {},
     "output_type": "execute_result"
    }
   ],
   "source": [
    "import nltk  \n",
    "nltk.download('stopwords')\n",
    "nltk.download('punkt')"
   ]
  },
  {
   "cell_type": "code",
   "execution_count": 3,
   "metadata": {},
   "outputs": [],
   "source": [
    "fake = pd.read_csv(\"Dataset/Fake.csv\")\n",
    "true = pd.read_csv(\"Dataset/True.csv\")"
   ]
  },
  {
   "cell_type": "code",
   "execution_count": 4,
   "metadata": {},
   "outputs": [],
   "source": [
    "## Looping through and adding every text to a string for True\n",
    "trueCorpus = []\n",
    "fakeCorpus = []\n",
    "for i in true['text']:\n",
    "    trueCorpus.append(i) \n",
    "\n",
    "for i in fake['text']:\n",
    "    fakeCorpus.append(i) "
   ]
  },
  {
   "cell_type": "code",
   "execution_count": 5,
   "metadata": {},
   "outputs": [],
   "source": [
    "## Tokenizing texts with NLTK\n",
    "tokenized_True = [word_tokenize(i) for i in trueCorpus]\n",
    "tokenized_Fake = [word_tokenize(i) for i in fakeCorpus]"
   ]
  },
  {
   "cell_type": "code",
   "execution_count": 6,
   "metadata": {},
   "outputs": [
    {
     "name": "stdout",
     "output_type": "stream",
     "text": [
      "trueCorpus Length: 21417\n",
      "fakeCorpus Length: 23481\n"
     ]
    }
   ],
   "source": [
    "print(\"trueCorpus Length: \"+ str(len(tokenized_True)))\n",
    "print(\"fakeCorpus Length: \"+ str(len(tokenized_Fake)))"
   ]
  },
  {
   "cell_type": "code",
   "execution_count": 7,
   "metadata": {},
   "outputs": [],
   "source": [
    "## Removing Stopwords from the Corpus\n",
    "stop_words = set(stopwords.words('english'))\n",
    "filteredTrue = []\n",
    "filteredFake = []\n",
    "\n",
    "for wordList in tokenized_True:\n",
    "    for word in wordList:\n",
    "        if word not in stop_words:\n",
    "            filteredTrue.append(word)\n",
    "\n",
    "for word in tokenized_True:\n",
    "    for word in wordList:\n",
    "        if word not in stop_words:\n",
    "            filteredFake.append(word)"
   ]
  },
  {
   "cell_type": "code",
   "execution_count": 11,
   "metadata": {},
   "outputs": [],
   "source": [
    "##Removing Punctuation \n",
    "\n",
    "tempTrue  = ' '.join([str(elem) for elem in filteredTrue])\n",
    "tokenizer = nltk.RegexpTokenizer(r\"\\w+\")\n",
    "filteredTrue = tokenizer.tokenize(tempTrue)\n",
    "\n",
    "\n",
    "tempFalse  = ' '.join([str(elem) for elem in filteredFake])\n",
    "tokenizer = nltk.RegexpTokenizer(r\"\\w+\")\n",
    "filteredFake = tokenizer.tokenize(tempFalse)"
   ]
  },
  {
   "cell_type": "code",
   "execution_count": null,
   "metadata": {},
   "outputs": [],
   "source": [
    "# intent\n",
    "intents = ['true', 'fake']\n",
    "\n",
    "all_counts = Counter()\n",
    "doc_counts = Counter()\n",
    "intent_counts = {intent: Counter() for intent in intents}\n",
    "\n",
    "art_data = []\n",
    "art_intents = []\n",
    "\n",
    "# iterate through true articles\n",
    "for index, row in true.iterrows():\n",
    "    art_counter = Counter()\n",
    "    art_data.append({\n",
    "        \"title\": row['title'],\n",
    "        \"text\": row['text'],\n",
    "        \"subject\": row['subject'],\n",
    "        \"date\": row['date'],\n",
    "        \"counts\": art_counter,\n",
    "        \"intent\": intents[0]\n",
    "    })\n",
    "    art_intents.append(intents[0])\n",
    "    \n",
    "    filtTokens = []\n",
    "    \n",
    "    tokens = [word_tokenize(i) for i in row['text']]\n",
    "    for wordList in tokens:\n",
    "        for word in wordList:\n",
    "            if word not in stop_words:\n",
    "                filtTokens.append(word)\n",
    "    tempTokens = ' '.join([str(elem) for elem in filtTokens])\n",
    "    filtTokens = tokenizer.tokenize(tempTokens)\n",
    "    \n",
    "    art_counter.update(filtTokens)\n",
    "    \n",
    "    intent_counts['true'].update(art_counter)\n",
    "    doc_counts.update(art_counter.keys())\n",
    "    all_counts += art_counter"
   ]
  },
  {
   "cell_type": "code",
   "execution_count": null,
   "metadata": {},
   "outputs": [],
   "source": []
  }
 ],
 "metadata": {
  "kernelspec": {
   "display_name": "Python 3",
   "language": "python",
   "name": "python3"
  },
  "language_info": {
   "codemirror_mode": {
    "name": "ipython",
    "version": 3
   },
   "file_extension": ".py",
   "mimetype": "text/x-python",
   "name": "python",
   "nbconvert_exporter": "python",
   "pygments_lexer": "ipython3",
   "version": "3.8.5"
  }
 },
 "nbformat": 4,
 "nbformat_minor": 4
}
