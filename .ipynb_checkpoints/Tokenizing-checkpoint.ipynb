{
 "cells": [
  {
   "cell_type": "code",
   "execution_count": 17,
   "metadata": {},
   "outputs": [],
   "source": [
    "import os\n",
    "import re\n",
    "import numpy as np\n",
    "import pandas as pd\n",
    "import nltk\n",
    "from collections import Counter\n",
    "from scipy.cluster.hierarchy import dendrogram\n",
    "from nltk.tokenize import word_tokenize\n",
    "from nltk.corpus import stopwords \n",
    "# Modules from scikit-learn\n",
    "from sklearn.cluster import AgglomerativeClustering, KMeans\n",
    "from sklearn.decomposition import TruncatedSVD\n",
    "from sklearn.manifold import TSNE"
   ]
  },
  {
   "cell_type": "code",
   "execution_count": 26,
   "metadata": {},
   "outputs": [
    {
     "name": "stderr",
     "output_type": "stream",
     "text": [
      "[nltk_data] Downloading package stopwords to\n",
      "[nltk_data]     /home/cdbrown0702/nltk_data...\n",
      "[nltk_data]   Unzipping corpora/stopwords.zip.\n",
      "[nltk_data] Downloading package punkt to\n",
      "[nltk_data]     /home/cdbrown0702/nltk_data...\n",
      "[nltk_data]   Package punkt is already up-to-date!\n"
     ]
    },
    {
     "data": {
      "text/plain": [
       "True"
      ]
     },
     "execution_count": 26,
     "metadata": {},
     "output_type": "execute_result"
    }
   ],
   "source": [
    "import nltk  \n",
    "nltk.download('stopwords')\n",
    "nltk.download('punkt')"
   ]
  },
  {
   "cell_type": "code",
   "execution_count": 36,
   "metadata": {},
   "outputs": [
    {
     "data": {
      "text/html": [
       "<div>\n",
       "<style scoped>\n",
       "    .dataframe tbody tr th:only-of-type {\n",
       "        vertical-align: middle;\n",
       "    }\n",
       "\n",
       "    .dataframe tbody tr th {\n",
       "        vertical-align: top;\n",
       "    }\n",
       "\n",
       "    .dataframe thead th {\n",
       "        text-align: right;\n",
       "    }\n",
       "</style>\n",
       "<table border=\"1\" class=\"dataframe\">\n",
       "  <thead>\n",
       "    <tr style=\"text-align: right;\">\n",
       "      <th></th>\n",
       "      <th>title</th>\n",
       "      <th>text</th>\n",
       "      <th>subject</th>\n",
       "      <th>date</th>\n",
       "    </tr>\n",
       "  </thead>\n",
       "  <tbody>\n",
       "    <tr>\n",
       "      <th>1</th>\n",
       "      <td>U.S. military to accept transgender recruits o...</td>\n",
       "      <td>WASHINGTON (Reuters) - Transgender people will...</td>\n",
       "      <td>politicsNews</td>\n",
       "      <td>December 29, 2017</td>\n",
       "    </tr>\n",
       "    <tr>\n",
       "      <th>2</th>\n",
       "      <td>Senior U.S. Republican senator: 'Let Mr. Muell...</td>\n",
       "      <td>WASHINGTON (Reuters) - The special counsel inv...</td>\n",
       "      <td>politicsNews</td>\n",
       "      <td>December 31, 2017</td>\n",
       "    </tr>\n",
       "    <tr>\n",
       "      <th>3</th>\n",
       "      <td>FBI Russia probe helped by Australian diplomat...</td>\n",
       "      <td>WASHINGTON (Reuters) - Trump campaign adviser ...</td>\n",
       "      <td>politicsNews</td>\n",
       "      <td>December 30, 2017</td>\n",
       "    </tr>\n",
       "    <tr>\n",
       "      <th>4</th>\n",
       "      <td>Trump wants Postal Service to charge 'much mor...</td>\n",
       "      <td>SEATTLE/WASHINGTON (Reuters) - President Donal...</td>\n",
       "      <td>politicsNews</td>\n",
       "      <td>December 29, 2017</td>\n",
       "    </tr>\n",
       "    <tr>\n",
       "      <th>5</th>\n",
       "      <td>White House, Congress prepare for talks on spe...</td>\n",
       "      <td>WEST PALM BEACH, Fla./WASHINGTON (Reuters) - T...</td>\n",
       "      <td>politicsNews</td>\n",
       "      <td>December 29, 2017</td>\n",
       "    </tr>\n",
       "    <tr>\n",
       "      <th>...</th>\n",
       "      <td>...</td>\n",
       "      <td>...</td>\n",
       "      <td>...</td>\n",
       "      <td>...</td>\n",
       "    </tr>\n",
       "    <tr>\n",
       "      <th>95</th>\n",
       "      <td>House panel chair introduces $81 billion disas...</td>\n",
       "      <td>WASHINGTON (Reuters) - The chairman of the U.S...</td>\n",
       "      <td>politicsNews</td>\n",
       "      <td>December 19, 2017</td>\n",
       "    </tr>\n",
       "    <tr>\n",
       "      <th>96</th>\n",
       "      <td>Trump nominates Liberty University professor t...</td>\n",
       "      <td>WASHINGTON (Reuters) - U.S. President Donald T...</td>\n",
       "      <td>politicsNews</td>\n",
       "      <td>December 19, 2017</td>\n",
       "    </tr>\n",
       "    <tr>\n",
       "      <th>97</th>\n",
       "      <td>Trump on Twitter (Dec 18) - Congressional Race...</td>\n",
       "      <td>The following statements were posted to the ve...</td>\n",
       "      <td>politicsNews</td>\n",
       "      <td>December 18, 2017</td>\n",
       "    </tr>\n",
       "    <tr>\n",
       "      <th>98</th>\n",
       "      <td>Trump Cabinet officials to visit Puerto Rico t...</td>\n",
       "      <td>WASHINGTON (Reuters) - Two members of Presiden...</td>\n",
       "      <td>politicsNews</td>\n",
       "      <td>December 19, 2017</td>\n",
       "    </tr>\n",
       "    <tr>\n",
       "      <th>99</th>\n",
       "      <td>'Dreamer' immigration bill not on U.S. Senate ...</td>\n",
       "      <td>WASHINGTON (Reuters) - The U.S. Senate will no...</td>\n",
       "      <td>politicsNews</td>\n",
       "      <td>December 18, 2017</td>\n",
       "    </tr>\n",
       "  </tbody>\n",
       "</table>\n",
       "<p>99 rows × 4 columns</p>\n",
       "</div>"
      ],
      "text/plain": [
       "                                                title  \\\n",
       "1   U.S. military to accept transgender recruits o...   \n",
       "2   Senior U.S. Republican senator: 'Let Mr. Muell...   \n",
       "3   FBI Russia probe helped by Australian diplomat...   \n",
       "4   Trump wants Postal Service to charge 'much mor...   \n",
       "5   White House, Congress prepare for talks on spe...   \n",
       "..                                                ...   \n",
       "95  House panel chair introduces $81 billion disas...   \n",
       "96  Trump nominates Liberty University professor t...   \n",
       "97  Trump on Twitter (Dec 18) - Congressional Race...   \n",
       "98  Trump Cabinet officials to visit Puerto Rico t...   \n",
       "99  'Dreamer' immigration bill not on U.S. Senate ...   \n",
       "\n",
       "                                                 text       subject  \\\n",
       "1   WASHINGTON (Reuters) - Transgender people will...  politicsNews   \n",
       "2   WASHINGTON (Reuters) - The special counsel inv...  politicsNews   \n",
       "3   WASHINGTON (Reuters) - Trump campaign adviser ...  politicsNews   \n",
       "4   SEATTLE/WASHINGTON (Reuters) - President Donal...  politicsNews   \n",
       "5   WEST PALM BEACH, Fla./WASHINGTON (Reuters) - T...  politicsNews   \n",
       "..                                                ...           ...   \n",
       "95  WASHINGTON (Reuters) - The chairman of the U.S...  politicsNews   \n",
       "96  WASHINGTON (Reuters) - U.S. President Donald T...  politicsNews   \n",
       "97  The following statements were posted to the ve...  politicsNews   \n",
       "98  WASHINGTON (Reuters) - Two members of Presiden...  politicsNews   \n",
       "99  WASHINGTON (Reuters) - The U.S. Senate will no...  politicsNews   \n",
       "\n",
       "                  date  \n",
       "1   December 29, 2017   \n",
       "2   December 31, 2017   \n",
       "3   December 30, 2017   \n",
       "4   December 29, 2017   \n",
       "5   December 29, 2017   \n",
       "..                 ...  \n",
       "95  December 19, 2017   \n",
       "96  December 19, 2017   \n",
       "97  December 18, 2017   \n",
       "98  December 19, 2017   \n",
       "99  December 18, 2017   \n",
       "\n",
       "[99 rows x 4 columns]"
      ]
     },
     "execution_count": 36,
     "metadata": {},
     "output_type": "execute_result"
    }
   ],
   "source": [
    "fake = pd.read_csv(\"Dataset/Fake.csv\")\n",
    "true = pd.read_csv(\"Dataset/True.csv\")"
   ]
  },
  {
   "cell_type": "code",
   "execution_count": 20,
   "metadata": {},
   "outputs": [],
   "source": [
    "## Looping through and adding every text to a string for True\n",
    "trueCorpus = []\n",
    "fakeCorpus = []\n",
    "for i in true['text']:\n",
    "    trueCorpus.append(i) \n",
    "\n",
    "for i in fake['text']:\n",
    "    fakeCorpus.append(i) "
   ]
  },
  {
   "cell_type": "code",
   "execution_count": 23,
   "metadata": {},
   "outputs": [],
   "source": [
    "## Tokenizing texts with NLTK\n",
    "tokenized_True = [word_tokenize(i) for i in trueCorpus]\n",
    "tokenized_Fake = [word_tokenize(i) for i in fakeCorpus]"
   ]
  },
  {
   "cell_type": "code",
   "execution_count": 24,
   "metadata": {},
   "outputs": [
    {
     "name": "stdout",
     "output_type": "stream",
     "text": [
      "trueCorpus Length: 21417\n",
      "fakeCorpus Length: 23481\n"
     ]
    }
   ],
   "source": [
    "print(\"trueCorpus Length: \"+ str(len(tokenized_True)))\n",
    "print(\"fakeCorpus Length: \"+ str(len(tokenized_Fake)))"
   ]
  },
  {
   "cell_type": "code",
   "execution_count": 27,
   "metadata": {},
   "outputs": [],
   "source": [
    "## Removing Stopwords from the Corpus\n",
    "stop_words = set(stopwords.words('english'))\n",
    "filteredTrue = []\n",
    "filteredFake = []\n",
    "\n",
    "for wordList in tokenized_True:\n",
    "    for word in wordList:\n",
    "        if word not in stop_words:\n",
    "            filteredTrue.append(word)\n",
    "\n",
    "for word in tokenized_True:\n",
    "    for word in wordList:\n",
    "        if word not in stop_words:\n",
    "            filteredFake.append(word)"
   ]
  },
  {
   "cell_type": "code",
   "execution_count": 28,
   "metadata": {},
   "outputs": [
    {
     "name": "stdout",
     "output_type": "stream",
     "text": [
      "6177937\n"
     ]
    }
   ],
   "source": [
    "print(len(filteredTrue))"
   ]
  },
  {
   "cell_type": "code",
   "execution_count": 30,
   "metadata": {
    "scrolled": true
   },
   "outputs": [
    {
     "name": "stdout",
     "output_type": "stream",
     "text": [
      "['JAKARTA', '(', 'Reuters', ')', '-', 'Indonesia', 'buy', '11', 'Sukhoi', 'fighter', 'jets', 'worth', '$', '1.14', 'billion', 'Russia', 'exchange', 'cash', 'Indonesian', 'commodities', ',', 'two', 'cabinet', 'ministers', 'said', 'Tuesday', '.', 'The', 'Southeast', 'Asian', 'country', 'pledged', 'ship', '$', '570', 'million', 'worth', 'commodities', 'addition', 'cash', 'pay', 'Suhkoi', 'SU-35', 'fighter', 'jets', ',', 'expected', 'delivered', 'stages', 'starting', 'two', 'years', '.', 'Indonesian', 'Trade', 'Minister', 'Enggartiasto', 'Lukita', 'said', 'joint', 'statement', 'Defence', 'Minister', 'Ryamizard', 'Ryacudu', 'details', 'type', 'volume', 'commodities', 'still', 'negotiated', '.', 'Previously', 'said', 'exports', 'could', 'include', 'palm', 'oil', ',', 'tea', ',', 'coffee', '.', 'The', 'deal', 'expected', 'finalised', 'soon', 'Indonesian', 'state', 'trading', 'company', 'PT', 'Perusahaan', 'Perdangangan', 'Indonesia', 'Russian', 'state', 'conglomerate', 'Rostec', '.', 'Russia', 'currently', 'facing', 'new', 'round', 'U.S.-imposed', 'trade', 'sanctions', '.', 'Meanwhile', ',', 'Southeast', 'Asia', 'largest', 'economy', 'trying', 'promote', 'palm', 'oil', 'products', 'amid', 'threats', 'cut', 'consumption', 'European', 'Union', 'countries', '.', 'Indonesia', 'also', 'trying', 'modernize', 'ageing', 'air', 'force', 'string', 'military', 'aviation', 'accidents', '.', 'Indonesia', ',', '$', '411', 'million', 'trade', 'surplus', 'Russia', '2016', ',', 'wants', 'expand', 'bilateral', 'cooperation', 'tourism', ',', 'education', ',', 'energy', ',', 'technology', 'aviation', 'among', 'others', '.', 'JAKARTA', '(', 'Reuters', ')', '-', 'Indonesia', 'buy', '11', 'Sukhoi', 'fighter', 'jets', 'worth', '$', '1.14', 'billion', 'Russia', 'exchange', 'cash', 'Indonesian', 'commodities', ',', 'two', 'cabinet', 'ministers', 'said', 'Tuesday', '.', 'The', 'Southeast', 'Asian', 'country', 'pledged', 'ship', '$', '570', 'million', 'worth', 'commodities', 'addition', 'cash', 'pay', 'Suhkoi', 'SU-35', 'fighter', 'jets', ',', 'expected', 'delivered', 'stages', 'starting', 'two', 'years', '.', 'Indonesian', 'Trade', 'Minister', 'Enggartiasto', 'Lukita', 'said', 'joint', 'statement', 'Defence', 'Minister', 'Ryamizard', 'Ryacudu', 'details', 'type', 'volume', 'commodities', 'still', 'negotiated', '.', 'Previously', 'said', 'exports', 'could', 'include', 'palm', 'oil', ',', 'tea', ',', 'coffee', '.', 'The', 'deal', 'expected', 'finalised', 'soon', 'Indonesian', 'state', 'trading', 'company', 'PT', 'Perusahaan', 'Perdangangan', 'Indonesia', 'Russian', 'state', 'conglomerate', 'Rostec', '.', 'Russia', 'currently', 'facing', 'new', 'round', 'U.S.-imposed', 'trade', 'sanctions', '.', 'Meanwhile', ',', 'Southeast', 'Asia', 'largest', 'economy', 'trying', 'promote', 'palm', 'oil', 'products', 'amid', 'threats', 'cut', 'consumption', 'European', 'Union', 'countries', '.', 'Indonesia', 'also', 'trying', 'modernize', 'ageing', 'air', 'force', 'string', 'military', 'aviation', 'accidents', '.', 'Indonesia', ',', '$', '411', 'million', 'trade', 'surplus', 'Russia', '2016', ',', 'wants', 'expand', 'bilateral', 'cooperation', 'tourism', ',', 'education', ',', 'energy', ',', 'technology', 'aviation', 'among', 'others', '.', 'JAKARTA', '(', 'Reuters', ')', '-', 'Indonesia', 'buy', '11', 'Sukhoi', 'fighter', 'jets', 'worth', '$', '1.14', 'billion', 'Russia', 'exchange', 'cash', 'Indonesian', 'commodities', ',', 'two', 'cabinet', 'ministers', 'said', 'Tuesday', '.', 'The', 'Southeast', 'Asian', 'country', 'pledged', 'ship', '$', '570', 'million', 'worth', 'commodities', 'addition', 'cash', 'pay', 'Suhkoi', 'SU-35', 'fighter', 'jets', ',', 'expected', 'delivered', 'stages', 'starting', 'two', 'years', '.', 'Indonesian', 'Trade', 'Minister', 'Enggartiasto', 'Lukita', 'said', 'joint', 'statement', 'Defence', 'Minister', 'Ryamizard', 'Ryacudu', 'details', 'type', 'volume', 'commodities', 'still', 'negotiated', '.', 'Previously', 'said', 'exports', 'could', 'include', 'palm', 'oil', ',', 'tea', ',', 'coffee', '.', 'The', 'deal', 'expected', 'finalised', 'soon', 'Indonesian', 'state', 'trading', 'company', 'PT', 'Perusahaan', 'Perdangangan', 'Indonesia', 'Russian', 'state', 'conglomerate', 'Rostec', '.', 'Russia', 'currently', 'facing', 'new', 'round', 'U.S.-imposed', 'trade', 'sanctions', '.', 'Meanwhile', ',', 'Southeast', 'Asia', 'largest', 'economy', 'trying', 'promote', 'palm', 'oil', 'products', 'amid', 'threats', 'cut', 'consumption', 'European', 'Union', 'countries', '.', 'Indonesia', 'also', 'trying', 'modernize', 'ageing', 'air', 'force', 'string', 'military', 'aviation', 'accidents', '.', 'Indonesia', ',', '$', '411', 'million', 'trade', 'surplus', 'Russia', '2016', ',', 'wants', 'expand', 'bilateral', 'cooperation', 'tourism', ',', 'education', ',', 'energy', ',', 'technology', 'aviation', 'among', 'others', '.', 'JAKARTA', '(', 'Reuters', ')', '-', 'Indonesia', 'buy', '11', 'Sukhoi', 'fighter', 'jets', 'worth', '$', '1.14', 'billion', 'Russia', 'exchange', 'cash', 'Indonesian', 'commodities', ',', 'two', 'cabinet', 'ministers', 'said', 'Tuesday', '.', 'The', 'Southeast', 'Asian', 'country', 'pledged', 'ship', '$', '570', 'million', 'worth', 'commodities', 'addition', 'cash', 'pay', 'Suhkoi', 'SU-35', 'fighter', 'jets', ',', 'expected', 'delivered', 'stages', 'starting', 'two', 'years', '.', 'Indonesian', 'Trade', 'Minister', 'Enggartiasto', 'Lukita', 'said', 'joint', 'statement', 'Defence', 'Minister', 'Ryamizard', 'Ryacudu', 'details', 'type', 'volume', 'commodities', 'still', 'negotiated', '.', 'Previously', 'said', 'exports', 'could', 'include', 'palm', 'oil', ',', 'tea', ',', 'coffee', '.', 'The', 'deal', 'expected', 'finalised', 'soon', 'Indonesian', 'state', 'trading', 'company', 'PT', 'Perusahaan', 'Perdangangan', 'Indonesia', 'Russian', 'state', 'conglomerate', 'Rostec', '.', 'Russia', 'currently', 'facing', 'new', 'round', 'U.S.-imposed', 'trade', 'sanctions', '.', 'Meanwhile', ',', 'Southeast', 'Asia', 'largest', 'economy', 'trying', 'promote', 'palm', 'oil', 'products', 'amid', 'threats', 'cut', 'consumption', 'European', 'Union', 'countries', '.', 'Indonesia', 'also', 'trying', 'modernize', 'ageing', 'air', 'force', 'string', 'military', 'aviation', 'accidents', '.', 'Indonesia', ',', '$', '411', 'million', 'trade', 'surplus', 'Russia', '2016', ',', 'wants', 'expand', 'bilateral', 'cooperation', 'tourism', ',', 'education', ',', 'energy', ',', 'technology', 'aviation', 'among', 'others', '.', 'JAKARTA', '(', 'Reuters', ')', '-', 'Indonesia', 'buy', '11', 'Sukhoi', 'fighter', 'jets', 'worth', '$', '1.14', 'billion', 'Russia', 'exchange', 'cash', 'Indonesian', 'commodities', ',', 'two', 'cabinet', 'ministers', 'said', 'Tuesday', '.', 'The', 'Southeast', 'Asian', 'country', 'pledged', 'ship', '$', '570', 'million', 'worth', 'commodities', 'addition', 'cash', 'pay', 'Suhkoi', 'SU-35', 'fighter', 'jets', ',', 'expected', 'delivered', 'stages', 'starting', 'two', 'years', '.', 'Indonesian', 'Trade', 'Minister', 'Enggartiasto', 'Lukita', 'said', 'joint', 'statement', 'Defence', 'Minister', 'Ryamizard', 'Ryacudu', 'details', 'type', 'volume', 'commodities', 'still', 'negotiated', '.', 'Previously', 'said', 'exports', 'could', 'include', 'palm', 'oil', ',', 'tea', ',', 'coffee', '.', 'The', 'deal', 'expected', 'finalised', 'soon', 'Indonesian', 'state', 'trading', 'company', 'PT', 'Perusahaan', 'Perdangangan', 'Indonesia', 'Russian', 'state', 'conglomerate', 'Rostec', '.', 'Russia', 'currently', 'facing', 'new', 'round', 'U.S.-imposed', 'trade', 'sanctions', '.', 'Meanwhile', ',', 'Southeast', 'Asia', 'largest', 'economy', 'trying', 'promote', 'palm', 'oil', 'products', 'amid', 'threats', 'cut', 'consumption', 'European', 'Union', 'countries', '.', 'Indonesia', 'also', 'trying', 'modernize', 'ageing', 'air', 'force', 'string', 'military', 'aviation', 'accidents', '.', 'Indonesia', ',', '$', '411', 'million', 'trade', 'surplus', 'Russia', '2016', ',', 'wants', 'expand', 'bilateral', 'cooperation', 'tourism', ',', 'education', ',', 'energy', ',', 'technology', 'aviation', 'among', 'others', '.', 'JAKARTA', '(', 'Reuters', ')', '-', 'Indonesia', 'buy', '11', 'Sukhoi', 'fighter', 'jets', 'worth', '$', '1.14', 'billion', 'Russia', 'exchange', 'cash', 'Indonesian', 'commodities', ',', 'two', 'cabinet', 'ministers', 'said', 'Tuesday', '.', 'The', 'Southeast', 'Asian', 'country', 'pledged', 'ship', '$', '570', 'million', 'worth', 'commodities', 'addition', 'cash', 'pay', 'Suhkoi', 'SU-35', 'fighter', 'jets', ',', 'expected', 'delivered', 'stages', 'starting', 'two', 'years', '.', 'Indonesian', 'Trade', 'Minister', 'Enggartiasto', 'Lukita', 'said', 'joint', 'statement', 'Defence', 'Minister', 'Ryamizard', 'Ryacudu', 'details', 'type', 'volume', 'commodities', 'still', 'negotiated', '.', 'Previously', 'said', 'exports', 'could', 'include', 'palm', 'oil', ',', 'tea', ',', 'coffee', '.', 'The', 'deal', 'expected', 'finalised', 'soon', 'Indonesian', 'state', 'trading', 'company', 'PT', 'Perusahaan', 'Perdangangan', 'Indonesia', 'Russian', 'state', 'conglomerate', 'Rostec', '.', 'Russia', 'currently', 'facing', 'new', 'round', 'U.S.-imposed', 'trade', 'sanctions', '.', 'Meanwhile', ',', 'Southeast', 'Asia', 'largest', 'economy', 'trying', 'promote', 'palm', 'oil', 'products', 'amid', 'threats', 'cut', 'consumption', 'European', 'Union', 'countries', '.', 'Indonesia', 'also', 'trying', 'modernize', 'ageing', 'air', 'force', 'string', 'military', 'aviation', 'accidents', '.', 'Indonesia', ',', '$', '411', 'million', 'trade', 'surplus', 'Russia', '2016', ',', 'wants', 'expand', 'bilateral', 'cooperation', 'tourism', ',', 'education', ',', 'energy', ',', 'technology', 'aviation', 'among']\n"
     ]
    }
   ],
   "source": [
    "print(filteredFake[0:1000])"
   ]
  },
  {
   "cell_type": "code",
   "execution_count": 31,
   "metadata": {},
   "outputs": [
    {
     "name": "stdout",
     "output_type": "stream",
     "text": [
      "{'wasn', 'an', 'and', 'ourselves', 'its', 'has', \"it's\", 'been', 'only', 'will', 'are', 'above', \"hasn't\", \"mightn't\", 'too', 'nor', 'most', \"isn't\", 'why', \"haven't\", 'yourselves', 'once', 'which', 'just', 'between', 'she', 'y', 'at', 'very', 'ours', \"hadn't\", \"you're\", 'myself', 'when', 'in', 'both', 'than', 'there', 'if', 'after', \"you'll\", 'he', 'herself', 'hasn', 'against', 'all', 'on', 'don', 'they', 'any', 'because', \"wasn't\", 'where', 'each', 'didn', 'their', 'yourself', 'your', 'as', 're', 'some', 'ma', \"you'd\", 'mightn', 'his', 'now', \"you've\", 'o', 'itself', 'her', 'should', \"should've\", 'am', 'how', 'a', 't', 'himself', 'while', 'shouldn', 'with', \"shan't\", 'needn', \"don't\", 'won', 'haven', 'doing', 'these', 'those', 's', 'here', 'd', 've', 'such', 'by', 'no', 'so', 'm', 'hadn', 'it', 'wouldn', 'before', 'for', 'doesn', 'or', 'does', 'own', \"shouldn't\", \"couldn't\", 'over', \"aren't\", \"that'll\", 'that', 'me', 'him', 'our', \"she's\", 'under', 'further', 'through', 'my', 'during', 'other', 'yours', 'do', 'more', 'you', 'have', 'to', 'again', 'but', 'did', 'then', 'aren', 'until', 'theirs', 'down', 'not', 'off', 'hers', 'couldn', 'were', 'up', 'was', 'them', 'few', 'is', 'below', 'ain', 'we', 'out', 'themselves', 'mustn', \"doesn't\", \"won't\", \"needn't\", \"mustn't\", 'what', 'll', 'weren', 'i', \"wouldn't\", 'shan', 'isn', 'from', 'same', 'had', 'this', 'who', 'whom', 'having', \"weren't\", \"didn't\", 'be', 'the', 'can', 'into', 'about', 'of', 'being'}\n"
     ]
    }
   ],
   "source": [
    "print(stop_words)"
   ]
  },
  {
   "cell_type": "code",
   "execution_count": 32,
   "metadata": {},
   "outputs": [],
   "source": [
    "##Removing Punctuation \n",
    "\n",
    "tempTrue  = ' '.join([str(elem) for elem in filteredTrue])\n",
    "tokenizer = nltk.RegexpTokenizer(r\"\\w+\")\n",
    "filteredTrue = tokenizer.tokenize(tempTrue)\n",
    "\n",
    "\n",
    "tempFalse  = ' '.join([str(elem) for elem in filteredFake])\n",
    "tokenizer = nltk.RegexpTokenizer(r\"\\w+\")\n",
    "filteredFake = tokenizer.tokenize(tempFalse)"
   ]
  },
  {
   "cell_type": "code",
   "execution_count": 33,
   "metadata": {},
   "outputs": [
    {
     "data": {
      "text/plain": [
       "5291898"
      ]
     },
     "execution_count": 33,
     "metadata": {},
     "output_type": "execute_result"
    }
   ],
   "source": [
    "len(filteredFake)\n",
    "len(filteredTrue)"
   ]
  },
  {
   "cell_type": "code",
   "execution_count": 34,
   "metadata": {},
   "outputs": [
    {
     "name": "stdout",
     "output_type": "stream",
     "text": [
      "['JAKARTA', 'Reuters', 'Indonesia', 'buy', '11', 'Sukhoi', 'fighter', 'jets', 'worth', '1', '14', 'billion', 'Russia', 'exchange', 'cash', 'Indonesian', 'commodities', 'two', 'cabinet', 'ministers', 'said', 'Tuesday', 'The', 'Southeast', 'Asian', 'country', 'pledged', 'ship', '570', 'million', 'worth', 'commodities', 'addition', 'cash', 'pay', 'Suhkoi', 'SU', '35', 'fighter', 'jets', 'expected', 'delivered', 'stages', 'starting', 'two', 'years', 'Indonesian', 'Trade', 'Minister', 'Enggartiasto', 'Lukita', 'said', 'joint', 'statement', 'Defence', 'Minister', 'Ryamizard', 'Ryacudu', 'details', 'type', 'volume', 'commodities', 'still', 'negotiated', 'Previously', 'said', 'exports', 'could', 'include', 'palm', 'oil', 'tea', 'coffee', 'The', 'deal', 'expected', 'finalised', 'soon', 'Indonesian', 'state', 'trading', 'company', 'PT', 'Perusahaan', 'Perdangangan', 'Indonesia', 'Russian', 'state', 'conglomerate', 'Rostec', 'Russia', 'currently', 'facing', 'new', 'round', 'U', 'S', 'imposed', 'trade', 'sanctions', 'Meanwhile', 'Southeast', 'Asia', 'largest', 'economy', 'trying', 'promote', 'palm', 'oil', 'products', 'amid', 'threats', 'cut', 'consumption', 'European', 'Union', 'countries', 'Indonesia', 'also', 'trying', 'modernize', 'ageing', 'air', 'force', 'string', 'military', 'aviation', 'accidents', 'Indonesia', '411', 'million', 'trade', 'surplus', 'Russia', '2016', 'wants', 'expand', 'bilateral', 'cooperation', 'tourism', 'education', 'energy', 'technology', 'aviation', 'among', 'others', 'JAKARTA', 'Reuters', 'Indonesia', 'buy', '11', 'Sukhoi', 'fighter', 'jets', 'worth', '1', '14', 'billion', 'Russia', 'exchange', 'cash', 'Indonesian', 'commodities', 'two', 'cabinet', 'ministers', 'said', 'Tuesday', 'The', 'Southeast', 'Asian', 'country', 'pledged', 'ship', '570', 'million', 'worth', 'commodities', 'addition', 'cash', 'pay', 'Suhkoi', 'SU', '35', 'fighter', 'jets', 'expected', 'delivered', 'stages', 'starting', 'two', 'years', 'Indonesian', 'Trade', 'Minister', 'Enggartiasto', 'Lukita', 'said', 'joint', 'statement', 'Defence', 'Minister', 'Ryamizard', 'Ryacudu', 'details', 'type', 'volume', 'commodities', 'still', 'negotiated', 'Previously', 'said', 'exports', 'could', 'include', 'palm', 'oil', 'tea', 'coffee', 'The', 'deal', 'expected', 'finalised', 'soon', 'Indonesian', 'state', 'trading', 'company', 'PT', 'Perusahaan', 'Perdangangan', 'Indonesia', 'Russian', 'state', 'conglomerate', 'Rostec', 'Russia', 'currently', 'facing', 'new', 'round', 'U', 'S', 'imposed', 'trade', 'sanctions', 'Meanwhile', 'Southeast', 'Asia', 'largest', 'economy', 'trying', 'promote', 'palm', 'oil', 'products', 'amid', 'threats', 'cut', 'consumption', 'European', 'Union', 'countries', 'Indonesia', 'also', 'trying', 'modernize', 'ageing', 'air', 'force', 'string', 'military', 'aviation', 'accidents', 'Indonesia', '411', 'million', 'trade', 'surplus', 'Russia', '2016', 'wants', 'expand', 'bilateral', 'cooperation', 'tourism', 'education', 'energy', 'technology', 'aviation', 'among', 'others', 'JAKARTA', 'Reuters', 'Indonesia', 'buy', '11', 'Sukhoi', 'fighter', 'jets', 'worth', '1', '14', 'billion', 'Russia', 'exchange', 'cash', 'Indonesian', 'commodities', 'two', 'cabinet', 'ministers', 'said', 'Tuesday', 'The', 'Southeast', 'Asian', 'country', 'pledged', 'ship', '570', 'million', 'worth', 'commodities', 'addition', 'cash', 'pay', 'Suhkoi', 'SU', '35', 'fighter', 'jets', 'expected', 'delivered', 'stages', 'starting', 'two', 'years', 'Indonesian', 'Trade', 'Minister', 'Enggartiasto', 'Lukita', 'said', 'joint', 'statement', 'Defence', 'Minister', 'Ryamizard', 'Ryacudu', 'details', 'type', 'volume', 'commodities', 'still', 'negotiated', 'Previously', 'said', 'exports', 'could', 'include', 'palm', 'oil', 'tea', 'coffee', 'The', 'deal', 'expected', 'finalised', 'soon', 'Indonesian', 'state', 'trading', 'company', 'PT', 'Perusahaan', 'Perdangangan', 'Indonesia', 'Russian', 'state', 'conglomerate', 'Rostec', 'Russia', 'currently', 'facing', 'new', 'round', 'U', 'S', 'imposed', 'trade', 'sanctions', 'Meanwhile', 'Southeast', 'Asia', 'largest', 'economy', 'trying', 'promote', 'palm', 'oil', 'products', 'amid', 'threats', 'cut', 'consumption', 'European', 'Union', 'countries', 'Indonesia', 'also', 'trying', 'modernize', 'ageing', 'air', 'force', 'string', 'military', 'aviation', 'accidents', 'Indonesia', '411', 'million', 'trade', 'surplus', 'Russia', '2016', 'wants', 'expand', 'bilateral', 'cooperation', 'tourism', 'education', 'energy', 'technology', 'aviation', 'among', 'others', 'JAKARTA', 'Reuters', 'Indonesia', 'buy', '11', 'Sukhoi', 'fighter', 'jets', 'worth', '1', '14', 'billion', 'Russia', 'exchange', 'cash', 'Indonesian', 'commodities', 'two', 'cabinet', 'ministers', 'said', 'Tuesday', 'The', 'Southeast', 'Asian', 'country', 'pledged', 'ship', '570', 'million', 'worth', 'commodities', 'addition', 'cash', 'pay', 'Suhkoi', 'SU', '35', 'fighter', 'jets', 'expected', 'delivered', 'stages', 'starting', 'two', 'years', 'Indonesian', 'Trade', 'Minister', 'Enggartiasto', 'Lukita', 'said', 'joint', 'statement', 'Defence', 'Minister', 'Ryamizard', 'Ryacudu', 'details', 'type', 'volume', 'commodities', 'still', 'negotiated', 'Previously', 'said', 'exports', 'could', 'include', 'palm', 'oil', 'tea', 'coffee', 'The', 'deal', 'expected', 'finalised', 'soon', 'Indonesian', 'state', 'trading', 'company', 'PT', 'Perusahaan', 'Perdangangan', 'Indonesia', 'Russian', 'state', 'conglomerate', 'Rostec', 'Russia', 'currently', 'facing', 'new', 'round', 'U', 'S', 'imposed', 'trade', 'sanctions', 'Meanwhile', 'Southeast', 'Asia', 'largest', 'economy', 'trying', 'promote', 'palm', 'oil', 'products', 'amid', 'threats', 'cut', 'consumption', 'European', 'Union', 'countries', 'Indonesia', 'also', 'trying', 'modernize', 'ageing', 'air', 'force', 'string', 'military', 'aviation', 'accidents', 'Indonesia', '411', 'million', 'trade', 'surplus', 'Russia', '2016', 'wants', 'expand', 'bilateral', 'cooperation', 'tourism', 'education', 'energy', 'technology', 'aviation', 'among', 'others', 'JAKARTA', 'Reuters', 'Indonesia', 'buy', '11', 'Sukhoi', 'fighter', 'jets', 'worth', '1', '14', 'billion', 'Russia', 'exchange', 'cash', 'Indonesian', 'commodities', 'two', 'cabinet', 'ministers', 'said', 'Tuesday', 'The', 'Southeast', 'Asian', 'country', 'pledged', 'ship', '570', 'million', 'worth', 'commodities', 'addition', 'cash', 'pay', 'Suhkoi', 'SU', '35', 'fighter', 'jets', 'expected', 'delivered', 'stages', 'starting', 'two', 'years', 'Indonesian', 'Trade', 'Minister', 'Enggartiasto', 'Lukita', 'said', 'joint', 'statement', 'Defence', 'Minister', 'Ryamizard', 'Ryacudu', 'details', 'type', 'volume', 'commodities', 'still', 'negotiated', 'Previously', 'said', 'exports', 'could', 'include', 'palm', 'oil', 'tea', 'coffee', 'The', 'deal', 'expected', 'finalised', 'soon', 'Indonesian', 'state', 'trading', 'company', 'PT', 'Perusahaan', 'Perdangangan', 'Indonesia', 'Russian', 'state', 'conglomerate', 'Rostec', 'Russia', 'currently', 'facing', 'new', 'round', 'U', 'S', 'imposed', 'trade', 'sanctions', 'Meanwhile', 'Southeast', 'Asia', 'largest', 'economy', 'trying', 'promote', 'palm', 'oil', 'products', 'amid', 'threats', 'cut', 'consumption', 'European', 'Union', 'countries', 'Indonesia', 'also', 'trying', 'modernize', 'ageing', 'air', 'force', 'string', 'military', 'aviation', 'accidents', 'Indonesia', '411', 'million', 'trade', 'surplus', 'Russia', '2016', 'wants', 'expand', 'bilateral', 'cooperation', 'tourism', 'education', 'energy', 'technology', 'aviation', 'among', 'others', 'JAKARTA', 'Reuters', 'Indonesia', 'buy', '11', 'Sukhoi', 'fighter', 'jets', 'worth', '1', '14', 'billion', 'Russia', 'exchange', 'cash', 'Indonesian', 'commodities', 'two', 'cabinet', 'ministers', 'said', 'Tuesday', 'The', 'Southeast', 'Asian', 'country', 'pledged', 'ship', '570', 'million', 'worth', 'commodities', 'addition', 'cash', 'pay', 'Suhkoi', 'SU', '35', 'fighter', 'jets', 'expected', 'delivered', 'stages', 'starting', 'two', 'years', 'Indonesian', 'Trade', 'Minister', 'Enggartiasto', 'Lukita', 'said', 'joint', 'statement', 'Defence', 'Minister', 'Ryamizard', 'Ryacudu', 'details', 'type', 'volume', 'commodities', 'still', 'negotiated', 'Previously', 'said', 'exports', 'could', 'include', 'palm', 'oil', 'tea', 'coffee', 'The', 'deal', 'expected', 'finalised', 'soon', 'Indonesian', 'state', 'trading', 'company', 'PT', 'Perusahaan', 'Perdangangan', 'Indonesia', 'Russian', 'state', 'conglomerate', 'Rostec', 'Russia', 'currently', 'facing', 'new', 'round', 'U', 'S', 'imposed', 'trade', 'sanctions', 'Meanwhile', 'Southeast', 'Asia', 'largest', 'economy', 'trying', 'promote', 'palm', 'oil', 'products', 'amid', 'threats', 'cut', 'consumption', 'European', 'Union', 'countries', 'Indonesia', 'also', 'trying', 'modernize', 'ageing', 'air', 'force', 'string', 'military', 'aviation', 'accidents', 'Indonesia', '411', 'million', 'trade', 'surplus', 'Russia', '2016', 'wants', 'expand', 'bilateral', 'cooperation', 'tourism', 'education', 'energy', 'technology', 'aviation', 'among', 'others', 'JAKARTA', 'Reuters', 'Indonesia', 'buy', '11', 'Sukhoi', 'fighter', 'jets', 'worth', '1', '14', 'billion', 'Russia', 'exchange', 'cash', 'Indonesian', 'commodities', 'two', 'cabinet', 'ministers', 'said', 'Tuesday', 'The', 'Southeast', 'Asian', 'country', 'pledged', 'ship', '570', 'million', 'worth', 'commodities', 'addition', 'cash', 'pay', 'Suhkoi', 'SU', '35', 'fighter', 'jets', 'expected', 'delivered', 'stages', 'starting', 'two', 'years', 'Indonesian', 'Trade', 'Minister', 'Enggartiasto', 'Lukita', 'said', 'joint', 'statement', 'Defence', 'Minister', 'Ryamizard', 'Ryacudu', 'details', 'type', 'volume', 'commodities', 'still', 'negotiated', 'Previously', 'said', 'exports', 'could', 'include', 'palm', 'oil', 'tea', 'coffee', 'The', 'deal', 'expected', 'finalised', 'soon', 'Indonesian', 'state', 'trading', 'company', 'PT', 'Perusahaan', 'Perdangangan', 'Indonesia', 'Russian', 'state', 'conglomerate', 'Rostec', 'Russia', 'currently', 'facing', 'new', 'round', 'U', 'S', 'imposed', 'trade', 'sanctions', 'Meanwhile', 'Southeast', 'Asia', 'largest', 'economy', 'trying', 'promote', 'palm', 'oil', 'products', 'amid', 'threats', 'cut', 'consumption', 'European', 'Union', 'countries', 'Indonesia', 'also', 'trying', 'modernize', 'ageing', 'air', 'force']\n"
     ]
    }
   ],
   "source": [
    "print(filteredFake[0:1000])"
   ]
  },
  {
   "cell_type": "code",
   "execution_count": 39,
   "metadata": {},
   "outputs": [],
   "source": [
    "# Subjects\n",
    "fake_subjects = ['News', 'politics', 'left-news', 'Government News', 'US_News']\n",
    "true_subjects = ['politicsNews', 'worldnews']\n",
    "\n",
    "# Counters store total freq of word types\n",
    "f_all_counts = Counter()\n",
    "t_all_counts = Counter()\n",
    "\n",
    "# Counters store document frequency of word types\n",
    "t_doc_counts = Counter()\n",
    "f_doc_counts = Counter()\n",
    "\n",
    "# Counters store subject-level counts of word types\n",
    "t_sub_counts = {subject: Counter() for subject in true_subjects}\n",
    "f_sub_counts = {subject: Counter() for subject in fake_subjects}\n",
    "\n",
    "# List of article-level data strux; one for each article, in each collection\n",
    "true_data = []\n",
    "fake_data = []\n",
    "\n",
    "# List of each article's subject\n",
    "true_subs = []\n",
    "fake_subs = []"
   ]
  },
  {
   "cell_type": "code",
   "execution_count": null,
   "metadata": {},
   "outputs": [],
   "source": [
    "#for collection in true, fake:\n",
    "    "
   ]
  }
 ],
 "metadata": {
  "kernelspec": {
   "display_name": "Python 3",
   "language": "python",
   "name": "python3"
  },
  "language_info": {
   "codemirror_mode": {
    "name": "ipython",
    "version": 3
   },
   "file_extension": ".py",
   "mimetype": "text/x-python",
   "name": "python",
   "nbconvert_exporter": "python",
   "pygments_lexer": "ipython3",
   "version": "3.8.5"
  }
 },
 "nbformat": 4,
 "nbformat_minor": 4
}
