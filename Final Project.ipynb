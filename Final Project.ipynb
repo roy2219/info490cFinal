{
 "cells": [
  {
   "cell_type": "markdown",
   "metadata": {},
   "source": [
    "# The Divide Between Falsity and Honesty: A Classifier for Fake News\n",
    "\n",
    "## Developed by Rolando Franqui and Connor Brown"
   ]
  },
  {
   "cell_type": "markdown",
   "metadata": {},
   "source": [
    "### Importing Libraries and Sources"
   ]
  },
  {
   "cell_type": "code",
   "execution_count": 9,
   "metadata": {},
   "outputs": [
    {
     "name": "stderr",
     "output_type": "stream",
     "text": [
      "[nltk_data] Downloading package stopwords to\n",
      "[nltk_data]     /home/cdbrown0702/nltk_data...\n",
      "[nltk_data]   Package stopwords is already up-to-date!\n",
      "[nltk_data] Downloading package punkt to\n",
      "[nltk_data]     /home/cdbrown0702/nltk_data...\n",
      "[nltk_data]   Package punkt is already up-to-date!\n"
     ]
    },
    {
     "ename": "ImportError",
     "evalue": "cannot import name 'tokenizer' from 'nltk.tokenize' (/home/cdbrown0702/anaconda3/lib/python3.8/site-packages/nltk/tokenize/__init__.py)",
     "output_type": "error",
     "traceback": [
      "\u001b[0;31m---------------------------------------------------------------------------\u001b[0m",
      "\u001b[0;31mImportError\u001b[0m                               Traceback (most recent call last)",
      "\u001b[0;32m<ipython-input-9-55175a3c21cc>\u001b[0m in \u001b[0;36m<module>\u001b[0;34m\u001b[0m\n\u001b[1;32m     15\u001b[0m \u001b[0;34m\u001b[0m\u001b[0m\n\u001b[1;32m     16\u001b[0m \u001b[0;32mfrom\u001b[0m \u001b[0mnltk\u001b[0m\u001b[0;34m.\u001b[0m\u001b[0mtokenize\u001b[0m \u001b[0;32mimport\u001b[0m \u001b[0mword_tokenize\u001b[0m\u001b[0;34m\u001b[0m\u001b[0;34m\u001b[0m\u001b[0m\n\u001b[0;32m---> 17\u001b[0;31m \u001b[0;32mfrom\u001b[0m \u001b[0mnltk\u001b[0m\u001b[0;34m.\u001b[0m\u001b[0mtokenize\u001b[0m \u001b[0;32mimport\u001b[0m \u001b[0mtokenizer\u001b[0m\u001b[0;34m\u001b[0m\u001b[0;34m\u001b[0m\u001b[0m\n\u001b[0m\u001b[1;32m     18\u001b[0m \u001b[0;32mfrom\u001b[0m \u001b[0mnltk\u001b[0m\u001b[0;34m.\u001b[0m\u001b[0mcorpus\u001b[0m \u001b[0;32mimport\u001b[0m \u001b[0mstopwords\u001b[0m\u001b[0;34m\u001b[0m\u001b[0;34m\u001b[0m\u001b[0m\n\u001b[1;32m     19\u001b[0m \u001b[0;32mfrom\u001b[0m \u001b[0mnltk\u001b[0m\u001b[0;34m.\u001b[0m\u001b[0mprobability\u001b[0m \u001b[0;32mimport\u001b[0m \u001b[0mFreqDist\u001b[0m\u001b[0;34m\u001b[0m\u001b[0;34m\u001b[0m\u001b[0m\n",
      "\u001b[0;31mImportError\u001b[0m: cannot import name 'tokenizer' from 'nltk.tokenize' (/home/cdbrown0702/anaconda3/lib/python3.8/site-packages/nltk/tokenize/__init__.py)"
     ]
    }
   ],
   "source": [
    "import os\n",
    "import re\n",
    "import numpy as np\n",
    "import pandas as pd\n",
    "import nltk\n",
    "import sklearn\n",
    "\n",
    "nltk.download('stopwords')\n",
    "nltk.download('punkt')\n",
    "\n",
    "from collections import Counter\n",
    "\n",
    "from scipy.cluster.hierarchy import dendrogram\n",
    "from scipy.stats import entropy\n",
    "\n",
    "from nltk.tokenize import word_tokenize\n",
    "from nltk.corpus import stopwords \n",
    "from nltk.probability import FreqDist\n",
    "\n",
    "# Modules from scikit-learn\n",
    "from sklearn.cluster import AgglomerativeClustering, KMeans\n",
    "from sklearn.decomposition import TruncatedSVD\n",
    "from sklearn.manifold import TSNE\n",
    "from sklearn.naive_bayes import MultinomialNB\n",
    "from sklearn.model_selection import LeaveOneOut\n",
    "from sklearn.model_selection import cross_val_predict, cross_val_score\n",
    "\n",
    "# Packages for plotting\n",
    "from matplotlib import pyplot as plt\n",
    "import seaborn as sns\n",
    "sns.set(style='white', font_scale=1.3) # Set the style for the plots"
   ]
  },
  {
   "cell_type": "markdown",
   "metadata": {},
   "source": [
    "### Reading in collections | Defining structures"
   ]
  },
  {
   "cell_type": "code",
   "execution_count": 2,
   "metadata": {},
   "outputs": [],
   "source": [
    "fake = pd.read_csv(\"Dataset/Fake.csv\")\n",
    "true = pd.read_csv(\"Dataset/True.csv\")\n",
    "true = true[0:10]\n",
    "fake = fake[0:10]"
   ]
  },
  {
   "cell_type": "code",
   "execution_count": 12,
   "metadata": {},
   "outputs": [],
   "source": [
    "# intentions | effect of the article\n",
    "intents = ['true', 'fake']\n",
    "\n",
    "# Initialize necessary counters for total words, document freqency, and counts by intention\n",
    "all_counts = Counter()\n",
    "doc_counts = Counter()\n",
    "intent_counts = {intent: Counter() for intent in intents}\n",
    "\n",
    "# Initializes necessary data strux\n",
    "art_data = []\n",
    "art_intents = []\n",
    "\n",
    "# used for article iteration\n",
    "count = 0\n",
    "\n",
    "stop_words = set(stopwords.words('english'))\n",
    "tokenizer = nltk.RegexpTokenizer(r\"\\w+\")\n",
    "\n",
    "# iterate through true articles\n",
    "for index,row in true.iterrows():\n",
    "    art_counter = Counter()\n",
    "    \n",
    "    # define article-level structures\n",
    "    art_data.append({\n",
    "        \"title\": row['title'],\n",
    "        \"text\": row['text'],\n",
    "        \"subject\": row['subject'],\n",
    "        \"date\": row['date'],\n",
    "        \"counts\": art_counter,\n",
    "        \"intent\": intents[0]\n",
    "    })\n",
    "    art_intents.append(intents[0])\n",
    "    \n",
    "    # tokenizes each article, removing stop words and punctuation\n",
    "    filtTokens = []\n",
    "    \n",
    "    tokens = [word_tokenize(x) for x in true.iloc[count]['text'].split()]\n",
    "    for wordList in tokens:\n",
    "        for word in wordList:\n",
    "            if word not in stop_words:\n",
    "                filtTokens.append(word)\n",
    "    tempTokens = ' '.join([str(elem) for elem in filtTokens])\n",
    "    filtTokens = tokenizer.tokenize(tempTokens)\n",
    "\n",
    "    # synthesizes article-level observations into counters\n",
    "    art_counter.update(filtTokens)\n",
    "    intent_counts['true'].update(art_counter)\n",
    "    doc_counts.update(art_counter.keys())\n",
    "    all_counts += art_counter\n",
    "    \n",
    "    count += 1\n",
    "    \n",
    "# resets for fake articles\n",
    "count = 0\n",
    "\n",
    "# iterate through fake articles\n",
    "for index,row in fake.iterrows():\n",
    "    art_counter = Counter()\n",
    "    \n",
    "    # define article-level structures\n",
    "    art_data.append({\n",
    "        \"title\": row['title'],\n",
    "        \"text\": row['text'],\n",
    "        \"subject\": row['subject'],\n",
    "        \"date\": row['date'],\n",
    "        \"counts\": art_counter,\n",
    "        \"intent\": intents[1]\n",
    "    })\n",
    "    art_intents.append(intents[1])\n",
    "    \n",
    "    # tokenizes each article, removing stop words and punctuation\n",
    "    filtTokens = []\n",
    "    \n",
    "    tokens = [word_tokenize(x) for x in fake.iloc[count]['text'].split()]\n",
    "    for wordList in tokens:\n",
    "        for word in wordList:\n",
    "            if word not in stop_words:\n",
    "                filtTokens.append(word)\n",
    "    tempTokens = ' '.join([str(elem) for elem in filtTokens])\n",
    "    filtTokens = tokenizer.tokenize(tempTokens)\n",
    "\n",
    "    # synthesizes article-level observations into counters\n",
    "    art_counter.update(filtTokens)\n",
    "    intent_counts['fake'].update(art_counter)\n",
    "    doc_counts.update(art_counter.keys())\n",
    "    all_counts += art_counter\n",
    "    \n",
    "    count += 1"
   ]
  },
  {
   "cell_type": "markdown",
   "metadata": {},
   "source": [
    "# Feature Analysis"
   ]
  },
  {
   "cell_type": "code",
   "execution_count": 13,
   "metadata": {},
   "outputs": [],
   "source": [
    "# creates vocabulary with words appearing in more than 2 documents\n",
    "vocabulary = []\n",
    "for wtype, doc in doc_counts.most_common():\n",
    "    if doc > 2:\n",
    "        vocabulary.append(wtype)"
   ]
  },
  {
   "cell_type": "code",
   "execution_count": 14,
   "metadata": {},
   "outputs": [],
   "source": [
    "# builds Numpy vectors to be used in feature analysis\n",
    "def build_vectors(vocabulary):\n",
    "    vectors = []\n",
    "    for s in art_data:\n",
    "        counts = s['counts']\n",
    "        v = np.array([counts[x] for x in vocabulary])\n",
    "        vectors.append(v)\n",
    "    return vectors\n",
    "\n",
    "article_vectors = build_vectors(vocabulary)"
   ]
  },
  {
   "cell_type": "markdown",
   "metadata": {},
   "source": [
    "### Visualizing Data using TruncatedSVD"
   ]
  },
  {
   "cell_type": "code",
   "execution_count": 15,
   "metadata": {},
   "outputs": [
    {
     "data": {
      "image/png": "[encoded data removed]",
      "text/plain": [
       "<Figure size 1440x1440 with 1 Axes>"
      ]
     },
     "metadata": {},
     "output_type": "display_data"
    }
   ],
   "source": [
    "# Creates a TruncatedSVD plot to show patterns in data association\n",
    "def plot_articles(vectors):\n",
    "    svd_model = TruncatedSVD(n_components = 2)\n",
    "    vectors_2d = svd_model.fit_transform(vectors)\n",
    "    \n",
    "    plt.figure(figsize=(20,20))\n",
    "    _ = sns.scatterplot(x=vectors_2d[:, 0], y=vectors_2d[:, 1], hue=art_intents,\n",
    "                        s=100, alpha=.75)\n",
    "    _ = plt.legend(loc=\"center left\", bbox_to_anchor=(1.05, .5),borderaxespad=0)\n",
    "    _ = plt.xticks([])\n",
    "    _ = plt.yticks([])\n",
    "\n",
    "plot_articles(article_vectors) ## we can see clear clusters; while true is more scattered, fake is more confined to specific features"
   ]
  },
  {
   "cell_type": "markdown",
   "metadata": {},
   "source": [
    "### Naive Bayes Classifier"
   ]
  },
  {
   "cell_type": "code",
   "execution_count": 16,
   "metadata": {
    "scrolled": true
   },
   "outputs": [
    {
     "name": "stdout",
     "output_type": "stream",
     "text": [
      "Ov. Accuracy: 95.0%\n",
      "\n",
      "True Accuracy: 100.0%\n",
      "Fake Accuracy: 90.0%\n"
     ]
    }
   ],
   "source": [
    "# Trains a Naive Bayes classifier to justify the usage of our features\n",
    "def classify_articles(vectors, smoothing=1):\n",
    "    model = MultinomialNB(alpha=smoothing, fit_prior=False)\n",
    "    cross_validator = LeaveOneOut()\n",
    "    \n",
    "    scores = cross_val_score(model, vectors, art_intents, cv=cross_validator)\n",
    "    \n",
    "    print(\"Ov. Accuracy: {:.1f}%\\n\".format(100 * sum(scores) / len(scores)))\n",
    "    \n",
    "    int_scores = {i:[] for i in intents}\n",
    "    for x, intent in enumerate(art_intents):\n",
    "        int_scores[intent].append(scores[x])\n",
    "    for i in intents:\n",
    "        int_name = i.title() + '' if i == 'true' else i.title()\n",
    "        print(\"{} Accuracy: {:.1f}%\".format(int_name, 100 * sum(int_scores[i]) / len(int_scores[i])))\n",
    "\n",
    "classify_articles(article_vectors) ## very accurate"
   ]
  },
  {
   "cell_type": "markdown",
   "metadata": {},
   "source": [
    "### Determining useful features"
   ]
  },
  {
   "cell_type": "code",
   "execution_count": 17,
   "metadata": {},
   "outputs": [],
   "source": [
    "# Determines lengths to be used in creating table and g-scores\n",
    "lencollect = sum([all_counts[word] for word in vocabulary])\n",
    "lenintent = {intent: sum([intent_counts[intent][word] for word in vocabulary]) for intent in intents}\n",
    "\n",
    "# Creates a contingency table using a specific word and intent\n",
    "def contingency(word, intent):\n",
    "    table = np.zeros((2, 2))\n",
    "    templen = lenintent[intent]\n",
    "    counter = intent_counts[intent]\n",
    "    \n",
    "    table[0,0] = counter[word]\n",
    "    table[1,0] = all_counts[word] - counter[word]\n",
    "    table[0,1] = templen - counter[word]\n",
    "    table[1,1] = (lencollect - templen) - (all_counts[word] - counter[word])\n",
    "    return table\n",
    "\n",
    "# Defines g-scores into a contingency table\n",
    "def gscore(table, signed=False):\n",
    "    rows = table.sum(axis=1)\n",
    "    columns = table.sum(axis=0)\n",
    "    \n",
    "    score = 2 * table.sum() * (entropy(rows) + entropy(columns) - entropy(table.flatten()))\n",
    "    \n",
    "    if signed:\n",
    "        asser(table.shape == (2,2))\n",
    "        if table[0,0] / table[:, 0].sum() < table[0,1]/table[:, 1].sum() > 0:\n",
    "            score *= 1\n",
    "    return score"
   ]
  },
  {
   "cell_type": "code",
   "execution_count": 18,
   "metadata": {},
   "outputs": [
    {
     "data": {
      "text/plain": [
       "7.727164992106868"
      ]
     },
     "execution_count": 18,
     "metadata": {},
     "output_type": "execute_result"
    }
   ],
   "source": [
    "table = contingency('WASHINGTON', 'true')\n",
    "gscore(table)"
   ]
  },
  {
   "cell_type": "markdown",
   "metadata": {},
   "source": [
    "By looking at specific buzzwords as well as their frequency by intent, we can see that Trump has 70% more uses in\n",
    "fake news articles, and also has an incredibly high Dunning g-score; the vocabulary with common words is very useful\n",
    "as a feature of our dataset."
   ]
  },
  {
   "cell_type": "markdown",
   "metadata": {},
   "source": [
    "# Clustering"
   ]
  },
  {
   "cell_type": "code",
   "execution_count": 19,
   "metadata": {},
   "outputs": [],
   "source": [
    "cluster_vectors = []\n",
    "for struct in art_data:\n",
    "    counts = struct['counts']\n",
    "    vector = np.array([counts[word] for word in vocabulary])\n",
    "    \n",
    "    vector = vector / vector.sum()\n",
    "    cluster_vectors.append(vector)\n",
    "    \n",
    "clust_tents = [i['intent'] for i in art_data]"
   ]
  },
  {
   "cell_type": "code",
   "execution_count": 20,
   "metadata": {},
   "outputs": [],
   "source": [
    "def p_clust(clust_labels):\n",
    "    n_clusters = max(clust_labels) + 1\n",
    "    \n",
    "    # Group indices\n",
    "    clust_ind = [[] for n in range(n_clusters)]\n",
    "    \n",
    "    for n, l in enumerate(clust_labels):\n",
    "        clust_ind[l].append(n)\n",
    "        \n",
    "    # Print clusters\n",
    "    for ind in range(n_clusters):\n",
    "        print(\"Cluster {}\".format(ind))\n",
    "        \n",
    "        for article in clust_ind[ind]:\n",
    "            struct = art_data[article]\n",
    "            print(\"  {} - {}\".format(struct['intent'], struct['title']))\n",
    "\n",
    "def plot(vectors, clust_labels, centroids=None):\n",
    "    model = TruncatedSVD(n_components = 2)\n",
    "    vectors_2d = model.fit_transform(vectors)\n",
    "    \n",
    "    plt.figure(figsize = (6,6))\n",
    "    _ = sns.scatterplot(x = vectors_2d[:, 0], y = vectors_2d[:, 1], style = clust_tents,\n",
    "                        hue = clust_labels, palette = 'tab10', s = 100, alpha = .75)\n",
    "    _ = plt.legend(loc = \"center left\", bbox_to_anchor = (1.05, .5), borderaxespad = 0)\n",
    "    _ = plt.xticks([])\n",
    "    _ = plt.yticks([])\n",
    "    \n",
    "    if centroids is not None:\n",
    "        hues = sns.color_palette('tab10')\n",
    "        centroids_2d = model.transform(centroids)\n",
    "        for i in range(centroids_2d.shape[0]):\n",
    "            hue = hues[i % 10]\n",
    "            plt.scatter(x=[centroids_2d[i, 0]], y=[[centroids_2d[i, 1]]],\n",
    "                        marker='*', color=hue, s=300)"
   ]
  },
  {
   "cell_type": "markdown",
   "metadata": {},
   "source": [
    "### Agglomerative Clustering"
   ]
  },
  {
   "cell_type": "code",
   "execution_count": 21,
   "metadata": {},
   "outputs": [],
   "source": [
    "def dendro(model,  **kwargs):\n",
    "    \n",
    "    counts = np.zeros(model.children_.shape[0])\n",
    "    n_samples = len(model.labels_)\n",
    "    for i, merge in enumerate(model.children_):\n",
    "        current_count = 0\n",
    "        for child_idx in merge:\n",
    "            if child_idx < n_samples:\n",
    "                current_count += 1  # leaf node\n",
    "            else:\n",
    "                current_count += counts[child_idx - n_samples]\n",
    "        counts[i] = current_count\n",
    "\n",
    "    linkage_matrix = np.column_stack([model.children_, model.distances_,\n",
    "                                      counts]).astype(float)\n",
    "\n",
    "    # Plot the corresponding dendrogram\n",
    "    dendrogram(linkage_matrix, **kwargs)"
   ]
  },
  {
   "cell_type": "code",
   "execution_count": 22,
   "metadata": {},
   "outputs": [
    {
     "data": {
      "image/png": "[encoded data removed]",
      "text/plain": [
       "<Figure size 1440x288 with 1 Axes>"
      ]
     },
     "metadata": {},
     "output_type": "display_data"
    }
   ],
   "source": [
    "plt.figure(figsize = (20, 4))\n",
    "\n",
    "agglom = AgglomerativeClustering(n_clusters=None, distance_threshold=0, affinity='euclidean', linkage='complete')\n",
    "agglom.fit(cluster_vectors)\n",
    "\n",
    "dendro(agglom, leaf_rotation=90, leaf_font_size=12, labels = clust_tents)\n",
    "_ = plt.title('Agglomerative Clustering for News')"
   ]
  },
  {
   "cell_type": "code",
   "execution_count": 23,
   "metadata": {},
   "outputs": [
    {
     "name": "stdout",
     "output_type": "stream",
     "text": [
      "Cluster 0\n",
      "  fake -  Donald Trump Sends Out Embarrassing New Year’s Eve Message; This is Disturbing\n",
      "  fake -  Sheriff David Clarke Becomes An Internet Joke For Threatening To Poke People ‘In The Eye’\n",
      "  fake -  Trump Is So Obsessed He Even Has Obama’s Name Coded Into His Website (IMAGES)\n",
      "Cluster 1\n",
      "  true - As U.S. budget fight looms, Republicans flip their fiscal script\n",
      "  true - U.S. military to accept transgender recruits on Monday: Pentagon\n",
      "  true - Senior U.S. Republican senator: 'Let Mr. Mueller do his job'\n",
      "  true - FBI Russia probe helped by Australian diplomat tip-off: NYT\n",
      "  true - Trump wants Postal Service to charge 'much more' for Amazon shipments\n",
      "  true - White House, Congress prepare for talks on spending, immigration\n",
      "  true - Trump says Russia probe will be fair, but timeline unclear: NYT\n",
      "  fake -  Drunk Bragging Trump Staffer Started Russian Collusion Investigation\n",
      "  fake -  Pope Francis Just Called Out Donald Trump During His Christmas Speech\n",
      "  fake -  Fresh Off The Golf Course, Trump Lashes Out At FBI Deputy Director And James Comey\n",
      "  fake -  Trump Said Some INSANELY Racist Stuff Inside The Oval Office, And Witnesses Back It Up\n",
      "  fake -  Former CIA Director Slams Trump Over UN Bullying, Openly Suggests He’s Acting Like A Dictator (TWEET)\n",
      "  fake -  WATCH: Brand-New Pro-Trump Ad Features So Much A** Kissing It Will Make You Sick\n",
      "Cluster 2\n",
      "  true - Factbox: Trump on Twitter (Dec 29) - Approval rating, Amazon\n",
      "  true - Trump on Twitter (Dec 28) - Global Warming\n",
      "Cluster 3\n",
      "  true - Alabama official to certify Senator-elect Jones today despite challenge: CNN\n",
      "Cluster 4\n",
      "  fake -  Racist Alabama Cops Brutalize Black Boy While He Is In Handcuffs (GRAPHIC IMAGES)\n"
     ]
    }
   ],
   "source": [
    "agglom2 = AgglomerativeClustering(n_clusters=5, affinity='euclidean', linkage='complete')\n",
    "labels2 = agglom2.fit_predict(cluster_vectors)\n",
    "\n",
    "p_clust(labels2)"
   ]
  },
  {
   "cell_type": "code",
   "execution_count": 24,
   "metadata": {},
   "outputs": [
    {
     "data": {
      "image/png": "[encoded data removed]",
      "text/plain": [
       "<Figure size 432x432 with 1 Axes>"
      ]
     },
     "metadata": {},
     "output_type": "display_data"
    }
   ],
   "source": [
    "plot(cluster_vectors, labels2)\n",
    "_ = plt.title(\"Agglomerative Clustering\")"
   ]
  },
  {
   "cell_type": "markdown",
   "metadata": {},
   "source": [
    "### K-Means"
   ]
  },
  {
   "cell_type": "code",
   "execution_count": 25,
   "metadata": {},
   "outputs": [
    {
     "name": "stdout",
     "output_type": "stream",
     "text": [
      "Cluster 0\n",
      "  true - As U.S. budget fight looms, Republicans flip their fiscal script\n",
      "  true - U.S. military to accept transgender recruits on Monday: Pentagon\n",
      "  true - Senior U.S. Republican senator: 'Let Mr. Mueller do his job'\n",
      "  true - FBI Russia probe helped by Australian diplomat tip-off: NYT\n",
      "  true - Trump wants Postal Service to charge 'much more' for Amazon shipments\n",
      "  true - White House, Congress prepare for talks on spending, immigration\n",
      "  true - Trump says Russia probe will be fair, but timeline unclear: NYT\n",
      "  true - Factbox: Trump on Twitter (Dec 29) - Approval rating, Amazon\n",
      "  true - Trump on Twitter (Dec 28) - Global Warming\n",
      "  fake -  Donald Trump Sends Out Embarrassing New Year’s Eve Message; This is Disturbing\n",
      "  fake -  Drunk Bragging Trump Staffer Started Russian Collusion Investigation\n",
      "  fake -  Sheriff David Clarke Becomes An Internet Joke For Threatening To Poke People ‘In The Eye’\n",
      "  fake -  Trump Is So Obsessed He Even Has Obama’s Name Coded Into His Website (IMAGES)\n",
      "  fake -  Pope Francis Just Called Out Donald Trump During His Christmas Speech\n",
      "  fake -  Racist Alabama Cops Brutalize Black Boy While He Is In Handcuffs (GRAPHIC IMAGES)\n",
      "  fake -  Fresh Off The Golf Course, Trump Lashes Out At FBI Deputy Director And James Comey\n",
      "  fake -  Trump Said Some INSANELY Racist Stuff Inside The Oval Office, And Witnesses Back It Up\n",
      "  fake -  Former CIA Director Slams Trump Over UN Bullying, Openly Suggests He’s Acting Like A Dictator (TWEET)\n",
      "  fake -  WATCH: Brand-New Pro-Trump Ad Features So Much A** Kissing It Will Make You Sick\n",
      "Cluster 1\n",
      "  true - Alabama official to certify Senator-elect Jones today despite challenge: CNN\n"
     ]
    }
   ],
   "source": [
    "kmeans = KMeans(n_clusters=2)\n",
    "labels3 = kmeans.fit_predict(cluster_vectors)\n",
    "centroids = kmeans.cluster_centers_\n",
    "\n",
    "p_clust(labels3)"
   ]
  },
  {
   "cell_type": "code",
   "execution_count": 26,
   "metadata": {},
   "outputs": [
    {
     "data": {
      "image/png": "[encoded data removed]",
      "text/plain": [
       "<Figure size 432x432 with 1 Axes>"
      ]
     },
     "metadata": {},
     "output_type": "display_data"
    }
   ],
   "source": [
    "plot(cluster_vectors, labels3, centroids = centroids)\n",
    "_ = plt.title(\"K-Means Clustering\")"
   ]
  },
  {
   "cell_type": "markdown",
   "metadata": {},
   "source": [
    "# Classifier"
   ]
  },
  {
   "cell_type": "code",
   "execution_count": null,
   "metadata": {},
   "outputs": [],
   "source": []
  }
 ],
 "metadata": {
  "kernelspec": {
   "display_name": "Python 3",
   "language": "python",
   "name": "python3"
  },
  "language_info": {
   "codemirror_mode": {
    "name": "ipython",
    "version": 3
   },
   "file_extension": ".py",
   "mimetype": "text/x-python",
   "name": "python",
   "nbconvert_exporter": "python",
   "pygments_lexer": "ipython3",
   "version": "3.8.5"
  }
 },
 "nbformat": 4,
 "nbformat_minor": 4
}
