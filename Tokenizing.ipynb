{
 "cells": [
  {
   "cell_type": "code",
   "execution_count": null,
   "metadata": {},
   "outputs": [],
   "source": [
    "import os\n",
    "import re\n",
    "import numpy as np\n",
    "import pandas as pd\n",
    "from collections import Counter\n",
    "from scipy.cluster.hierarchy import dendrogram\n",
    "from nltk.tokenize import word_tokenize\n",
    "from nltk.corpus import stopwords \n",
    "# Modules from scikit-learn\n",
    "from sklearn.cluster import AgglomerativeClustering, KMeans\n",
    "from sklearn.decomposition import TruncatedSVD\n",
    "from sklearn.manifold import TSNE"
   ]
  },
  {
   "cell_type": "code",
   "execution_count": null,
   "metadata": {},
   "outputs": [],
   "source": [
    "fake = pd.read_csv(\"Dataset/Fake.csv\")\n",
    "true = pd.read_csv(\"Dataset/True.csv\")"
   ]
  },
  {
   "cell_type": "code",
   "execution_count": null,
   "metadata": {},
   "outputs": [],
   "source": [
    "## Looping through and adding every text to a string for True\n",
    "trueCorpus = []\n",
    "fakeCorpus = []\n",
    "for i in true['text']:\n",
    "    trueCorpus.append(i) \n",
    "\n",
    "for i in fake['text']:\n",
    "    fakeCorpus.append(i) "
   ]
  },
  {
   "cell_type": "code",
   "execution_count": null,
   "metadata": {},
   "outputs": [],
   "source": [
    "## Removing Stopwords from the Corpus\n",
    "stop_words = set(stopwords.words('english'))\n",
    "filteredTrue = []\n",
    "filteredFake = []\n",
    "\n",
    "for wordList in tokenized_True:\n",
    "    for word in wordList:\n",
    "        if word not in stop_words:\n",
    "            filteredTrue.append(word)\n",
    "\n",
    "for word in tokenized_True:\n",
    "    for word in wordList:\n",
    "        if word not in stop_words:\n",
    "            filteredFake.append(word)"
   ]
  },
  {
   "cell_type": "code",
   "execution_count": null,
   "metadata": {},
   "outputs": [],
   "source": [
    "print(len(filteredTrue))"
   ]
  },
  {
   "cell_type": "code",
   "execution_count": null,
   "metadata": {},
   "outputs": [],
   "source": [
    "print(filteredTrue[0:1000])"
   ]
  },
  {
   "cell_type": "code",
   "execution_count": null,
   "metadata": {},
   "outputs": [],
   "source": [
    "print(stop_words)"
   ]
  },
  {
   "cell_type": "code",
   "execution_count": null,
   "metadata": {},
   "outputs": [],
   "source": [
    "##Removing Punctuation \n",
    "\n",
    "tempTrue  = ' '.join([str(elem) for elem in filteredTrue])\n",
    "tokenizer = nltk.RegexpTokenizer(r\"\\w+\")\n",
    "filteredTrue = tokenizer.tokenize(tempTrue)\n",
    "\n",
    "\n",
    "tempFalse  = ' '.join([str(elem) for elem in filteredFake])\n",
    "tokenizer = nltk.RegexpTokenizer(r\"\\w+\")\n",
    "filteredFake = tokenizer.tokenize(tempFalse)"
   ]
  },
  {
   "cell_type": "code",
   "execution_count": null,
   "metadata": {},
   "outputs": [],
   "source": [
    "len(filteredFake)\n",
    "len(filteredTrue)"
   ]
  }
 ],
 "metadata": {
  "kernelspec": {
   "display_name": "Python 3",
   "language": "python",
   "name": "python3"
  },
  "language_info": {
   "codemirror_mode": {
    "name": "ipython",
    "version": 3
   },
   "file_extension": ".py",
   "mimetype": "text/x-python",
   "name": "python",
   "nbconvert_exporter": "python",
   "pygments_lexer": "ipython3",
   "version": "3.8.5"
  }
 },
 "nbformat": 4,
 "nbformat_minor": 4
}
