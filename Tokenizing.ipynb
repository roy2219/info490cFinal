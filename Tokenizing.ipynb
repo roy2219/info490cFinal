{
 "cells": [
  {
   "cell_type": "code",
   "execution_count": 35,
   "metadata": {},
   "outputs": [],
   "source": [
    "import os\n",
    "import re\n",
    "import numpy as np\n",
    "import pandas as pd\n",
    "import nltk\n",
    "from collections import Counter\n",
    "from scipy.cluster.hierarchy import dendrogram\n",
    "from nltk.tokenize import word_tokenize\n",
    "from nltk.corpus import stopwords \n",
    "# Modules from scikit-learn\n",
    "from sklearn.cluster import AgglomerativeClustering, KMeans\n",
    "from sklearn.decomposition import TruncatedSVD\n",
    "from sklearn.manifold import TSNE"
   ]
  },
  {
   "cell_type": "code",
   "execution_count": 36,
   "metadata": {},
   "outputs": [
    {
     "name": "stderr",
     "output_type": "stream",
     "text": [
      "[nltk_data] Error loading stopword: Package 'stopword' not found in\n",
      "[nltk_data]     index\n",
      "[nltk_data] Downloading package punkt to\n",
      "[nltk_data]     C:\\Users\\Roy\\AppData\\Roaming\\nltk_data...\n",
      "[nltk_data]   Package punkt is already up-to-date!\n"
     ]
    },
    {
     "data": {
      "text/plain": [
       "True"
      ]
     },
     "execution_count": 36,
     "metadata": {},
     "output_type": "execute_result"
    }
   ],
   "source": [
    "import nltk  \n",
    "nltk.download('stopword')\n",
    "nltk.download('punkt')"
   ]
  },
  {
   "cell_type": "code",
   "execution_count": 37,
   "metadata": {},
   "outputs": [],
   "source": [
    "fake = pd.read_csv(\"Dataset/Fake.csv\")\n",
    "true = pd.read_csv(\"Dataset/True.csv\")"
   ]
  },
  {
   "cell_type": "markdown",
   "metadata": {},
   "source": [
    "# Tokenizing"
   ]
  },
  {
   "cell_type": "code",
   "execution_count": 38,
   "metadata": {},
   "outputs": [],
   "source": [
    "## Looping through and adding every text to a string for True\n",
    "trueCorpus = []\n",
    "fakeCorpus = []\n",
    "for i in true['text']:\n",
    "    trueCorpus.append(i) \n",
    "\n",
    "for i in fake['text']:\n",
    "    fakeCorpus.append(i) "
   ]
  },
  {
   "cell_type": "code",
   "execution_count": 39,
   "metadata": {},
   "outputs": [],
   "source": [
    "## Tokenizing texts with NLTK\n",
    "tokenized_True = [word_tokenize(i) for i in trueCorpus]\n",
    "tokenized_Fake = [word_tokenize(i) for i in fakeCorpus]"
   ]
  },
  {
   "cell_type": "code",
   "execution_count": 40,
   "metadata": {},
   "outputs": [
    {
     "name": "stdout",
     "output_type": "stream",
     "text": [
      "trueCorpus Length: 21417\n",
      "fakeCorpus Length: 23481\n"
     ]
    }
   ],
   "source": [
    "print(\"trueCorpus Length: \"+ str(len(tokenized_True)))\n",
    "print(\"fakeCorpus Length: \"+ str(len(tokenized_Fake)))"
   ]
  },
  {
   "cell_type": "code",
   "execution_count": 41,
   "metadata": {},
   "outputs": [],
   "source": [
    "## Removing Stopwords from the Corpus\n",
    "stop_words = set(stopwords.words('english'))\n",
    "filteredTrue = []\n",
    "filteredFake = []\n",
    "\n",
    "for wordList in tokenized_True:\n",
    "    for word in wordList:\n",
    "        if word not in stop_words:\n",
    "            filteredTrue.append(word)\n",
    "\n",
    "for word in tokenized_True:\n",
    "    for word in wordList:\n",
    "        if word not in stop_words:\n",
    "            filteredFake.append(word)"
   ]
  },
  {
   "cell_type": "code",
   "execution_count": 42,
   "metadata": {},
   "outputs": [
    {
     "name": "stdout",
     "output_type": "stream",
     "text": [
      "6177937\n"
     ]
    }
   ],
   "source": [
    "print(len(filteredTrue))"
   ]
  },
  {
   "cell_type": "code",
   "execution_count": 43,
   "metadata": {},
   "outputs": [
    {
     "name": "stdout",
     "output_type": "stream",
     "text": [
      "['WASHINGTON', '(', 'Reuters', ')', '-', 'The', 'head', 'conservative', 'Republican', 'faction', 'U.S.', 'Congress', ',', 'voted', 'month', 'huge', 'expansion', 'national', 'debt', 'pay', 'tax', 'cuts', ',', 'called', '“', 'fiscal', 'conservative', '”', 'Sunday', 'urged', 'budget', 'restraint', '2018', '.', 'In', 'keeping', 'sharp', 'pivot', 'way', 'among', 'Republicans', ',', 'U.S.', 'Representative', 'Mark', 'Meadows', ',', 'speaking', 'CBS', '’', '“', 'Face', 'Nation', ',', '”', 'drew', 'hard', 'line', 'federal', 'spending', ',', 'lawmakers', 'bracing', 'battle', 'January', '.', 'When', 'return', 'holidays', 'Wednesday', ',', 'lawmakers', 'begin', 'trying', 'pass', 'federal', 'budget', 'fight', 'likely', 'linked', 'issues', ',', 'immigration', 'policy', ',', 'even', 'November', 'congressional', 'election', 'campaigns', 'approach', 'Republicans', 'seek', 'keep', 'control', 'Congress', '.', 'President', 'Donald', 'Trump', 'Republicans', 'want', 'big', 'budget', 'increase', 'military', 'spending', ',', 'Democrats', 'also', 'want', 'proportional', 'increases', 'non-defense', '“', 'discretionary', '”', 'spending', 'programs', 'support', 'education', ',', 'scientific', 'research', ',', 'infrastructure', ',', 'public', 'health', 'environmental', 'protection', '.', '“', 'The', '(', 'Trump', ')', 'administration', 'already', 'willing', 'say', ':', '‘', 'We', '’', 'going', 'increase', 'non-defense', 'discretionary', 'spending', '...', '7', 'percent', ',', '’', '”', 'Meadows', ',', 'chairman', 'small', 'influential', 'House', 'Freedom', 'Caucus', ',', 'said', 'program', '.', '“', 'Now', ',', 'Democrats', 'saying', '’', 'enough', ',', 'need', 'give', 'government', 'pay', 'raise', '10', '11', 'percent', '.', 'For', 'fiscal', 'conservative', ',', 'I', '’', 'see', 'rationale', '.', '...', 'Eventually', 'run', 'people', '’', 'money', ',', '”', 'said', '.', 'Meadows', 'among', 'Republicans', 'voted', 'late', 'December', 'party', '’', 'debt-financed', 'tax', 'overhaul', ',', 'expected', 'balloon', 'federal', 'budget', 'deficit', 'add', '$', '1.5', 'trillion', '10', 'years', '$', '20', 'trillion', 'national', 'debt', '.', '“', 'It', '’', 'interesting', 'hear', 'Mark', 'talk', 'fiscal', 'responsibility', ',', '”', 'Democratic', 'U.S.', 'Representative', 'Joseph', 'Crowley', 'said', 'CBS', '.', 'Crowley', 'said', 'Republican', 'tax', 'bill', 'would', 'require', 'United', 'States', 'borrow', '$', '1.5', 'trillion', ',', 'paid', 'future', 'generations', ',', 'finance', 'tax', 'cuts', 'corporations', 'rich', '.', '“', 'This', 'one', 'least', '...', 'fiscally', 'responsible', 'bills', '’', 'ever', 'seen', 'passed', 'history', 'House', 'Representatives', '.', 'I', 'think', '’', 'going', 'paying', 'many', ',', 'many', 'years', 'come', ',', '”', 'Crowley', 'said', '.', 'Republicans', 'insist', 'tax', 'package', ',', 'biggest', 'U.S.', 'tax', 'overhaul', '30', 'years', ',', 'boost', 'economy', 'job', 'growth', '.', 'House', 'Speaker', 'Paul', 'Ryan', ',', 'also', 'supported', 'tax', 'bill', ',', 'recently', 'went', 'Meadows', ',', 'making', 'clear', 'radio', 'interview', 'welfare', '“', 'entitlement', 'reform', ',', '”', 'party', 'often', 'calls', ',', 'would', 'top', 'Republican', 'priority', '2018', '.', 'In', 'Republican', 'parlance', ',', '“', 'entitlement', '”', 'programs', 'mean', 'food', 'stamps', ',', 'housing', 'assistance', ',', 'Medicare', 'Medicaid', 'health', 'insurance', 'elderly', ',', 'poor', 'disabled', ',', 'well', 'programs', 'created', 'Washington', 'assist', 'needy', '.', 'Democrats', 'seized', 'Ryan', '’', 'early', 'December', 'remarks', ',', 'saying', 'showed', 'Republicans', 'would', 'try', 'pay', 'tax', 'overhaul', 'seeking', 'spending', 'cuts', 'social', 'programs', '.', 'But', 'goals', 'House', 'Republicans', 'may', 'take', 'back', 'seat', 'Senate', ',', 'votes', 'Democrats', 'needed', 'approve', 'budget', 'prevent', 'government', 'shutdown', '.', 'Democrats', 'use', 'leverage', 'Senate', ',', 'Republicans', 'narrowly', 'control', ',', 'defend', 'discretionary', 'non-defense', 'programs', 'social', 'spending', ',', 'tackling', 'issue', '“', 'Dreamers', ',', '”', 'people', 'brought', 'illegally', 'country', 'children', '.', 'Trump', 'September', 'put', 'March', '2018', 'expiration', 'date', 'Deferred', 'Action', 'Childhood', 'Arrivals', ',', 'DACA', ',', 'program', ',', 'protects', 'young', 'immigrants', 'deportation', 'provides', 'work', 'permits', '.', 'The', 'president', 'said', 'recent', 'Twitter', 'messages', 'wants', 'funding', 'proposed', 'Mexican', 'border', 'wall', 'immigration', 'law', 'changes', 'exchange', 'agreeing', 'help', 'Dreamers', '.', 'Representative', 'Debbie', 'Dingell', 'told', 'CBS', 'favor', 'linking', 'issue', 'policy', 'objectives', ',', 'wall', 'funding', '.', '“', 'We', 'need', 'DACA', 'clean', ',', '”', 'said', '.', 'On', 'Wednesday', ',', 'Trump', 'aides', 'meet', 'congressional', 'leaders', 'discuss', 'issues', '.', 'That', 'followed', 'weekend', 'strategy', 'sessions', 'Trump', 'Republican', 'leaders', 'Jan.', '6', '7', ',', 'White', 'House', 'said', '.', 'Trump', 'also', 'scheduled', 'meet', 'Sunday', 'Florida', 'Republican', 'Governor', 'Rick', 'Scott', ',', 'wants', 'emergency', 'aid', '.', 'The', 'House', 'passed', '$', '81', 'billion', 'aid', 'package', 'hurricanes', 'Florida', ',', 'Texas', 'Puerto', 'Rico', ',', 'wildfires', 'California', '.', 'The', 'package', 'far', 'exceeded', '$', '44', 'billion', 'requested', 'Trump', 'administration', '.', 'The', 'Senate', 'yet', 'voted', 'aid', '.', 'WASHINGTON', '(', 'Reuters', ')', '-', 'Transgender', 'people', 'allowed', 'first', 'time', 'enlist', 'U.S.', 'military', 'starting', 'Monday', 'ordered', 'federal', 'courts', ',', 'Pentagon', 'said', 'Friday', ',', 'President', 'Donald', 'Trump', '’', 'administration', 'decided', 'appeal', 'rulings', 'blocked', 'transgender', 'ban', '.', 'Two', 'federal', 'appeals', 'courts', ',', 'one', 'Washington', 'one', 'Virginia', ',', 'last', 'week', 'rejected', 'administration', '’', 'request', 'put', 'hold', 'orders', 'lower', 'court', 'judges', 'requiring', 'military', 'begin', 'accepting', 'transgender', 'recruits', 'Jan.', '1', '.', 'A', 'Justice', 'Department', 'official', 'said', 'administration', 'challenge', 'rulings', '.', '“', 'The', 'Department', 'Defense', 'announced', 'releasing', 'independent', 'study', 'issues', 'coming', 'weeks', '.', 'So', 'rather', 'litigate', 'interim', 'appeal', 'occurs', ',', 'administration', 'decided', 'wait', 'DOD', '’', 'study', 'continue', 'defend', 'president', '’', 'lawful', 'authority', 'District', 'Court', 'meantime', ',', '”', 'official', 'said', ',', 'speaking', 'condition', 'anonymity', '.', 'In', 'September', ',', 'Pentagon', 'said', 'created', 'panel', 'senior', 'officials', 'study', 'implement', 'directive', 'Trump', 'prohibit', 'transgender', 'individuals', 'serving', '.', 'The', 'Defense', 'Department', 'Feb.', '21', 'submit', 'plan', 'Trump', '.', 'Lawyers', 'representing', 'currently-serving', 'transgender', 'service', 'members', 'aspiring', 'recruits', 'said', 'expected', 'administration', 'appeal', 'rulings', 'conservative-majority', 'Supreme', 'Court', ',', 'hoping', 'would', 'happen', '.', 'Pentagon', 'spokeswoman', 'Heather', 'Babb', 'said', 'statement', ':', '“', 'As', 'mandated', 'court', 'order', ',', 'Department', 'Defense', 'prepared', 'begin', 'accessing', 'transgender', 'applicants', 'military', 'service', 'Jan.', '1', '.', 'All', 'applicants', 'must', 'meet', 'accession', 'standards.', '”', 'Jennifer', 'Levi', ',', 'lawyer', 'gay', ',', 'lesbian', 'transgender', 'advocacy', 'group', 'GLAD', ',', 'called', 'decision', 'appeal', '“', 'great', 'news.', '”', '“', 'I', '’', 'hoping', 'means', 'government', 'come', 'see', 'way', 'justify', 'ban', '’', 'good', 'military', 'country', ',', '”', 'Levi', 'said', '.', 'Both', 'GLAD', 'American', 'Civil', 'Liberties', 'Union', 'represent', 'plaintiffs', 'lawsuits', 'filed', 'administration', '.', 'In', 'move', 'appealed', 'hard-line', 'conservative', 'supporters', ',', 'Trump', 'announced', 'July', 'would', 'prohibit', 'transgender', 'people', 'serving', 'military', ',', 'reversing', 'Democratic', 'President', 'Barack', 'Obama', '’', 'policy', 'accepting', '.', 'Trump', 'said', 'Twitter', 'time', 'military', '“', 'burdened', 'tremendous', 'medical', 'costs', 'disruption', 'transgender', 'military', 'would', 'entail.', '”', 'Four', 'federal', 'judges', '-', 'Baltimore', ',', 'Washington', ',', 'D.C.', ',', 'Seattle', 'Riverside', ',', 'California', '-', 'issued', 'rulings', 'blocking', 'Trump', '’', 'ban', 'legal', 'challenges', 'Republican', 'president', '’', 'policy', 'proceed', '.', 'The', 'judges', 'said', 'ban', 'would', 'likely', 'violate', 'right', 'U.S.', 'Constitution', 'equal', 'protection', 'law', '.', 'The', 'Pentagon', 'Dec.', '8', 'issued', 'guidelines', 'recruitment', 'personnel', 'order', 'enlist', 'transgender', 'applicants', 'Jan.', '1', '.', 'The', 'memo', 'outlined', 'medical', 'requirements', 'specified', 'applicants', '’', 'sex', 'would', 'identified', 'even', 'undergarments', 'would', 'wear', '.', 'The', 'Trump', 'administration', 'previously', 'said', 'legal', 'papers', 'armed', 'forces', 'prepared', 'train', 'thousands', 'personnel', 'medical', 'standards', 'needed', 'process', 'transgender', 'applicants', 'might', 'accept', '“', 'individuals', 'medically', 'fit', 'service.', '”', 'The', 'Obama', 'administration', 'set', 'deadline', 'July']\n"
     ]
    }
   ],
   "source": [
    "print(filteredTrue[0:1000])"
   ]
  },
  {
   "cell_type": "code",
   "execution_count": 44,
   "metadata": {},
   "outputs": [
    {
     "name": "stdout",
     "output_type": "stream",
     "text": [
      "{'she', 'those', 'he', 'shouldn', 'her', 've', 'its', 'during', 'themselves', 'hers', 'then', \"you're\", 'i', 'couldn', 'who', 'do', 'own', \"should've\", \"you'll\", \"hasn't\", \"you'd\", 'not', 'this', 'other', 'into', 'had', 'until', 'any', 'm', 'needn', 'through', 'didn', 'them', 'his', 'by', 'against', \"wasn't\", \"didn't\", 'before', 're', 'our', 'all', 'nor', 'both', 'having', 'mustn', 'why', 'with', 'isn', 'to', 'below', \"doesn't\", 'such', 'it', 'wouldn', 'my', 'we', 'or', 'most', 'weren', 'some', 'aren', 'out', 'don', 'your', 'be', 'being', \"don't\", 'after', 'than', 'they', 'while', 'no', 'very', 'herself', 'over', 'as', 'mightn', 'yours', 'is', \"won't\", 'did', 'how', 'doesn', 'me', 'if', 'a', 'further', 'wasn', 'at', 'd', 'o', \"mightn't\", 'above', 'each', 'up', 'again', \"couldn't\", 'just', 'few', 'where', 'too', 'these', 'were', 'when', \"aren't\", 'the', 'but', 'was', 'for', 'yourselves', 'of', 'ours', 'between', 'so', 'more', 'been', 'under', \"wouldn't\", 'll', 'whom', \"you've\", \"isn't\", 'there', 'ma', 'theirs', 'because', 'ain', 'have', 'on', 'once', 't', 'same', 'doing', 'here', 'from', 'am', 'hasn', \"that'll\", 's', \"weren't\", 'should', \"mustn't\", 'has', 'that', 'does', 'y', 'haven', 'now', \"it's\", 'you', 'myself', \"shan't\", 'what', \"hadn't\", 'only', 'yourself', 'in', 'and', 'down', 'hadn', 'can', 'which', 'an', 'off', 'their', \"haven't\", 'will', 'shan', \"she's\", 'him', 'about', \"needn't\", 'himself', \"shouldn't\", 'itself', 'ourselves', 'won', 'are'}\n"
     ]
    }
   ],
   "source": [
    "print(stop_words)"
   ]
  },
  {
   "cell_type": "code",
   "execution_count": 47,
   "metadata": {},
   "outputs": [],
   "source": [
    "##Removing Punctuation \n",
    "\n",
    "tempTrue  = ' '.join([str(elem) for elem in filteredTrue])\n",
    "tokenizer = nltk.RegexpTokenizer(r\"\\w+\")\n",
    "filteredTrue = tokenizer.tokenize(tempTrue)\n",
    "\n",
    "\n",
    "tempFalse  = ' '.join([str(elem) for elem in filteredFake])\n",
    "tokenizer = nltk.RegexpTokenizer(r\"\\w+\")\n",
    "filteredFake = tokenizer.tokenize(tempFalse)"
   ]
  },
  {
   "cell_type": "code",
   "execution_count": 49,
   "metadata": {},
   "outputs": [
    {
     "name": "stdout",
     "output_type": "stream",
     "text": [
      "3126882\n",
      "5291898\n"
     ]
    }
   ],
   "source": [
    "print(len(filteredFake))\n",
    "print(len(filteredTrue))"
   ]
  },
  {
   "cell_type": "markdown",
   "metadata": {},
   "source": [
    "# Clustering \n",
    "\n",
    "Description Here"
   ]
  },
  {
   "cell_type": "markdown",
   "metadata": {},
   "source": [
    "# Feature Analysis\n",
    "\n",
    "Description Here"
   ]
  },
  {
   "cell_type": "code",
   "execution_count": null,
   "metadata": {},
   "outputs": [],
   "source": []
  },
  {
   "cell_type": "code",
   "execution_count": null,
   "metadata": {},
   "outputs": [],
   "source": []
  }
 ],
 "metadata": {
  "kernelspec": {
   "display_name": "Python 3",
   "language": "python",
   "name": "python3"
  },
  "language_info": {
   "codemirror_mode": {
    "name": "ipython",
    "version": 3
   },
   "file_extension": ".py",
   "mimetype": "text/x-python",
   "name": "python",
   "nbconvert_exporter": "python",
   "pygments_lexer": "ipython3",
   "version": "3.8.5"
  }
 },
 "nbformat": 4,
 "nbformat_minor": 4
}
